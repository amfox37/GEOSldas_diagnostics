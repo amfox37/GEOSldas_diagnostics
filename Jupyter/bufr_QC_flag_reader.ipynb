{
 "cells": [
  {
   "cell_type": "code",
   "execution_count": 1,
   "id": "851c2169-3ace-4006-b147-bd4365bb4a18",
   "metadata": {},
   "outputs": [],
   "source": [
    "import numpy as np\n",
    "\n",
    "from mapper_functions import plot_global\n",
    "from mapper_functions import plot_na\n",
    "\n",
    "from my_functions import read_ascat_bufr"
   ]
  },
  {
   "cell_type": "code",
   "execution_count": 2,
   "id": "f0f21cea",
   "metadata": {},
   "outputs": [
    {
     "name": "stdout",
     "output_type": "stream",
     "text": [
      "Total number of obs =  681408\n"
     ]
    }
   ],
   "source": [
    "path = '/Users/amfox/Desktop/ASCAT_EUMETSAT'\n",
    "file_name_start = 'M02-ASCA-ASCSMO02-NA'\n",
    "printflag = False\n",
    "\n",
    "lat, lon, ssom, tpcx, domo, smpf, smcf, alfr, iwfr, snoc, flsf = read_ascat_bufr(path, file_name_start, printflag)"
   ]
  },
  {
   "cell_type": "code",
   "execution_count": 17,
   "metadata": {},
   "outputs": [
    {
     "name": "stdout",
     "output_type": "stream",
     "text": [
      "[0. 1. 2. 4. 5. 6.] [587267   1905   3855  81459   5581   1341] float64\n"
     ]
    }
   ],
   "source": [
    "is_nan = np.isnan(smcf)\n",
    "flag, counts = np.unique(smcf[~is_nan], return_counts=True)\n",
    "print(flag, counts, flag.dtype)\n",
    "flag_int64 = flag.astype(np.int64)\n"
   ]
  },
  {
   "cell_type": "code",
   "execution_count": 18,
   "metadata": {},
   "outputs": [
    {
     "name": "stdout",
     "output_type": "stream",
     "text": [
      "00000000 587267\n",
      "00000001 1905\n",
      "00000010 3855\n",
      "00000100 81459\n",
      "00000101 5581\n",
      "00000110 1341\n"
     ]
    }
   ],
   "source": [
    "for i in range(len(flag_int64)):\n",
    "    result = np.binary_repr(flag_int64[i], width=8)\n",
    "    print(result, counts[i])"
   ]
  }
 ],
 "metadata": {
  "kernelspec": {
   "display_name": "base",
   "language": "python",
   "name": "python3"
  },
  "language_info": {
   "codemirror_mode": {
    "name": "ipython",
    "version": 3
   },
   "file_extension": ".py",
   "mimetype": "text/x-python",
   "name": "python",
   "nbconvert_exporter": "python",
   "pygments_lexer": "ipython3",
   "version": "3.9.13"
  },
  "orig_nbformat": 4,
  "vscode": {
   "interpreter": {
    "hash": "130bdb5d51c1627e03a8f7a29c982db29c3017f04d5bf7548f0371ec6a75a062"
   }
  }
 },
 "nbformat": 4,
 "nbformat_minor": 2
}
