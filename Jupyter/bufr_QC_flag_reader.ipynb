{
 "cells": [
  {
   "cell_type": "code",
   "execution_count": null,
   "id": "851c2169-3ace-4006-b147-bd4365bb4a18",
   "metadata": {},
   "outputs": [],
   "source": [
    "import numpy as np\n",
    "\n",
    "from mapper_functions import plot_global\n",
    "from mapper_functions import plot_na\n",
    "\n",
    "from my_functions import read_ascat_bufr"
   ]
  },
  {
   "cell_type": "code",
   "execution_count": null,
   "id": "f0f21cea",
   "metadata": {},
   "outputs": [
    {
     "name": "stdout",
     "output_type": "stream",
     "text": [
      "Total number of obs =  681408\n"
     ]
    }
   ],
   "source": [
    "path = '/Users/amfox/Desktop/ASCAT_EUMETSAT'\n",
    "file_name_start = 'M02-ASCA-ASCSMO02-NA'\n",
    "printflag = False\n",
    "\n",
    "lat, lon, ssom, tpcx, domo, smpf, smcf, alfr, iwfr, snoc, flsf = read_ascat_bufr(path, file_name_start, printflag)"
   ]
  }
 ],
 "metadata": {
  "kernelspec": {
   "display_name": "base",
   "language": "python",
   "name": "python3"
  },
  "language_info": {
   "codemirror_mode": {
    "name": "ipython",
    "version": 3
   },
   "file_extension": ".py",
   "mimetype": "text/x-python",
   "name": "python",
   "nbconvert_exporter": "python",
   "pygments_lexer": "ipython3",
   "version": "3.9.13"
  },
  "orig_nbformat": 4,
  "vscode": {
   "interpreter": {
    "hash": "130bdb5d51c1627e03a8f7a29c982db29c3017f04d5bf7548f0371ec6a75a062"
   }
  }
 },
 "nbformat": 4,
 "nbformat_minor": 2
}
