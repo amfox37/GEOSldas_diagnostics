{
 "cells": [
  {
   "cell_type": "code",
   "execution_count": 11,
   "metadata": {},
   "outputs": [],
   "source": [
    "import numpy as np\n",
    "import os\n",
    "import matplotlib\n",
    "import matplotlib.pyplot as plt\n",
    "import matplotlib.ticker as mticker\n",
    "import xarray as xr\n",
    "\n",
    "from mapper_functions import plot_global\n",
    "from mapper_functions import plot_na\n",
    "\n",
    "from my_functions import read_obsfcstana_pentads\n"
   ]
  },
  {
   "cell_type": "code",
   "execution_count": null,
   "metadata": {},
   "outputs": [],
   "source": [
    "\n",
    "fname = '/Users/amfox/Desktop/GEOSldas_diagnostics/test_data/ASCAT_M36.ldas_log.20200601_0000z.txt'"
   ]
  },
  {
   "cell_type": "code",
   "execution_count": null,
   "metadata": {},
   "outputs": [],
   "source": [
    "# Open the file for reading\n",
    "with open(fname, 'r') as f:\n",
    "    # Initialize an empty list to store the extracted data\n",
    "    data = []\n",
    "    # Loop through each line in the file\n",
    "    for line in f:\n",
    "        # Check if the line starts with \"Found!\"\n",
    "        if line.startswith('Found!'):\n",
    "            # Extract the numbers in the remaining columns\n",
    "            columns = line.strip().split()[1:]\n",
    "            numbers = [float(col) for col in columns]\n",
    "            # Append the numbers to the data list\n",
    "            data.append(numbers)"
   ]
  },
  {
   "cell_type": "code",
   "execution_count": null,
   "metadata": {},
   "outputs": [],
   "source": [
    "# Convert the data list to a NumPy array\n",
    "data_array = np.array(data)\n"
   ]
  },
  {
   "cell_type": "code",
   "execution_count": null,
   "metadata": {},
   "outputs": [],
   "source": [
    "# Split the 2D array into 10 separate arrays\n",
    "i = data_array[:, 0]\n",
    "pp = data_array[:, 1]\n",
    "j_ind = data_array[:, 2]\n",
    "i_ind = data_array[:, 3]\n",
    "tmp_obs = data_array[:, 4]\n",
    "sclprm_mean_obs = data_array[:, 5]\n",
    "sclprm_std_mod = data_array[:, 6]\n",
    "sclprm_std_obs = data_array[:, 7]\n",
    "sclprm_mean_mod = data_array[:, 8]\n",
    "tmp_std_obs = data_array[:, 9]"
   ]
  },
  {
   "cell_type": "code",
   "execution_count": null,
   "metadata": {},
   "outputs": [],
   "source": [
    "# Create a scatter plot of tmp_obs against sclprm_mean_mod\n",
    "plt.scatter(sclprm_mean_mod, tmp_obs, s=5)\n",
    "\n",
    "# Set the x and y axis labels\n",
    "plt.xlabel('sclprm_mean_mod')\n",
    "plt.ylabel('tmp_obs')\n",
    "\n",
    "# Set the axis limits and aspect ratio\n",
    "plt.xlim([0, 1])\n",
    "plt.ylim([0, 1])\n",
    "plt.gca().set_aspect('equal', adjustable='box')\n",
    "\n",
    "# Add a dashed line for the 1:1 line\n",
    "x = np.linspace(0, 1, 100)\n",
    "plt.plot(x, x, '--', color='gray')\n",
    "\n",
    "# Display the plot\n",
    "plt.show()\n"
   ]
  },
  {
   "cell_type": "code",
   "execution_count": null,
   "metadata": {},
   "outputs": [],
   "source": [
    "# Calculate tmpreal by dividing sclprm_std_mod by sclprm_std_obs\n",
    "tmpreal = sclprm_std_mod / sclprm_std_obs\n",
    "\n",
    "# Calculate tmp_obs2 using the formula sclprm_mean_mod + tmpreal*(tmp_obs-sclprm_mean_obs)\n",
    "tmp_obs2 = sclprm_mean_mod + tmpreal * (tmp_obs - sclprm_mean_obs)"
   ]
  },
  {
   "cell_type": "code",
   "execution_count": null,
   "metadata": {},
   "outputs": [],
   "source": [
    "# Create a scatter plot of tmp_obs against sclprm_mean_mod\n",
    "plt.scatter(sclprm_mean_mod, tmp_obs, s=10)\n",
    "\n",
    "# Create a scatter plot of tmp_obs2 against sclprm_mean_mod in a different color\n",
    "plt.scatter(sclprm_mean_mod, tmp_obs2, s=10, c='r')\n",
    "\n",
    "# Set the x and y axis labels\n",
    "plt.xlabel('sclprm_mean_mod')\n",
    "plt.ylabel('tmp_obs')\n",
    "\n",
    "# Set the axis limits and aspect ratio\n",
    "plt.xlim([0, 1])\n",
    "plt.ylim([0, 1])\n",
    "plt.gca().set_aspect('equal', adjustable='box')\n",
    "\n",
    "# Add a dashed line for the 1:1 line\n",
    "x = np.linspace(0, 1, 100)\n",
    "plt.plot(x, x, '--', color='gray')\n",
    "\n",
    "# Display the plot\n",
    "plt.show()\n",
    "\n"
   ]
  },
  {
   "cell_type": "code",
   "execution_count": null,
   "metadata": {},
   "outputs": [],
   "source": [
    "# Create a line plot of sclprm_mean_mod against tmp_obs\n",
    "plt.plot(tmp_obs, label='tmp_obs')\n",
    "\n",
    "# Create a line plot of sclprm_mean_mod against tmp_obs2 in a different color\n",
    "plt.plot(tmp_obs2, label='tmp_obs2')\n",
    "\n",
    "# Set the x and y axis labels\n",
    "plt.xlabel('sclprm_mean_mod')\n",
    "plt.ylabel('tmp_obs')\n",
    "\n",
    "# Set the axis limits and aspect ratio\n",
    "plt.ylim([0, 1])\n",
    "\n",
    "# Add a legend\n",
    "plt.legend()\n",
    "\n",
    "# Display the plot\n",
    "plt.show()"
   ]
  },
  {
   "cell_type": "code",
   "execution_count": 3,
   "metadata": {},
   "outputs": [
    {
     "name": "stdout",
     "output_type": "stream",
     "text": [
      "Total number of obs =  1629620\n"
     ]
    }
   ],
   "source": [
    "# Read ObsFcstAna files\n",
    "path = '/Users/amfox/Desktop/GEOSldas_diagnostics/test_data/M06'\n",
    "file_name_start = 'ASCAT_M36.ens_avg.ldas_ObsFcstAna.201506'\n",
    "printflag = False\n",
    "\n",
    "date_time, obs_species, obs_tilenum, obs_lon, obs_lat, obs_obs, obs_obsvar, obs_fcst, obs_fcstvar, obs_ana, obs_anavar, pentad2 = read_obsfcstana_pentads(path, file_name_start, printflag)"
   ]
  },
  {
   "cell_type": "code",
   "execution_count": 4,
   "metadata": {},
   "outputs": [],
   "source": [
    "# Open the netCDF file using xarray\n",
    "ds = xr.open_dataset('/Users/amfox/Desktop/GEOSldas_diagnostics/test_data/combined_all_pentads_M36_zscore_stats_2015_doy152_2017_doy365_hscale_0.00.nc4')\n",
    "\n",
    "sclprm_mean_obs_3D = ds['o_mean'].values\n",
    "sclprm_mean_mod_3D = ds['m_mean'].values\n",
    "sclprm_std_obs_3D = ds['o_std'].values\n",
    "sclprm_std_mod_3D = ds['m_std'].values"
   ]
  },
  {
   "cell_type": "code",
   "execution_count": 5,
   "metadata": {},
   "outputs": [
    {
     "data": {
      "text/plain": [
       "35"
      ]
     },
     "execution_count": 5,
     "metadata": {},
     "output_type": "execute_result"
    }
   ],
   "source": [
    "date_time[9]['pentad'][0]\n",
    "\n",
    "# for dt in date_time:\n",
    "#     pentad = dt['pentad'][0]\n",
    "#     print(pentad)"
   ]
  },
  {
   "cell_type": "code",
   "execution_count": 6,
   "metadata": {},
   "outputs": [],
   "source": [
    "#Calculate i,j\n",
    "ll_lon = -180.0\n",
    "ll_lat = -90.0\n",
    "dlon = 0.25\n",
    "dlat = 0.25\n",
    "\n",
    "n_obs = len(obs_obs)\n",
    "tmp_obs = obs_obs.copy()\n",
    "tmp_std_obs = obs_obsvar.copy()\n",
    "\n",
    "i_out = np.zeros(n_obs)\n",
    "j_out = np.zeros(n_obs)"
   ]
  },
  {
   "cell_type": "code",
   "execution_count": 7,
   "metadata": {},
   "outputs": [],
   "source": [
    "\n",
    "\n",
    "for i in range(len(obs_obs)):\n",
    "    this_lon = obs_lon[i]   \n",
    "    this_lat = obs_lat[i]  \n",
    "    i_ind = int((this_lon - ll_lon)/dlon + 1) # Add 1 to ceil equivalent in Fortran\n",
    "    j_ind = int((this_lat - ll_lat)/dlat + 1) # Add 1 to ceil equivalent in Fortran\n",
    "    \n",
    "    # sclprm_mean_obs = ds['o_mean'].sel(pentad = pentad2[i]).values\n",
    "    # sclprm_mean_mod = ds['m_mean'].sel(pentad = pentad2[i]).values\n",
    "    # sclprm_std_obs = ds['o_std'].sel(pentad = pentad2[i]).values\n",
    "    # sclprm_std_mod = ds['m_std'].sel(pentad = pentad2[i]).values\n",
    "\n",
    "    sclprm_mean_obs = sclprm_mean_obs_3D[int(pentad2[i]), :, :]\n",
    "    sclprm_mean_mod = sclprm_mean_mod_3D[int(pentad2[i]), :, :]\n",
    "    sclprm_std_obs = sclprm_std_obs_3D[int(pentad2[i]), :, :]\n",
    "    sclprm_std_mod = sclprm_std_mod_3D[int(pentad2[i]), :, :]\n",
    "\n",
    "    if (sclprm_mean_obs[i_ind, j_ind] > 0 and sclprm_mean_mod[i_ind, j_ind] > 0 and\n",
    "    sclprm_std_obs[i_ind, j_ind] >= 0 and sclprm_std_mod[i_ind, j_ind] >= 0):\n",
    "        # Scale via standard normal deviates\n",
    "        tmpreal = sclprm_std_mod[i_ind, j_ind] / sclprm_std_obs[i_ind, j_ind]\n",
    "        tmp_obs[i] = sclprm_mean_mod[i_ind, j_ind] + tmpreal * (tmp_obs[i] - sclprm_mean_obs[i_ind, j_ind])\n",
    "        # Scale observation error std\n",
    "        tmp_std_obs[i] = tmpreal * tmp_std_obs[i]\n",
    "\n",
    "        i_out[i] = i_ind\n",
    "        j_out[i] = j_ind\n",
    "        \n",
    "    else:\n",
    "        tmp_obs[i] = -9999.9\n",
    "\n",
    "\n",
    "idx = np.where(tmp_obs >= -9999)\n"
   ]
  },
  {
   "cell_type": "code",
   "execution_count": null,
   "metadata": {},
   "outputs": [],
   "source": [
    "num_values = len(idx[0])\n",
    "print(\"Number of values that meet the criteria: \", num_values)\n",
    "\n",
    "# Generate data\n",
    "data1 = tmp_obs[idx]\n",
    "data2 = obs_obs[idx]"
   ]
  },
  {
   "cell_type": "code",
   "execution_count": null,
   "metadata": {},
   "outputs": [],
   "source": [
    "\n",
    "# Define bin edges\n",
    "combined_data = np.concatenate([data1, data2])\n",
    "bin_edges = np.linspace(np.min(combined_data), np.max(combined_data), 51)\n",
    "\n",
    "# Plot histogram as a line\n",
    "fig, ax = plt.subplots()\n",
    "\n",
    "n2, bins, patches = ax.hist(data2, density=False, bins=bin_edges, alpha=0.4, label='Original')\n",
    "n1, bins, patches = ax.hist(data1, density=False, bins=bin_edges, alpha=0.4, label='Scaled')\n",
    "\n",
    "# Add labels and title\n",
    "ax.set_xlabel('ASCAT Wetness')\n",
    "ax.set_ylabel('Count')\n",
    "ax.set_title('Observations Distribution')\n",
    "ax.legend()\n",
    "\n",
    "savename = 'obs_dis_cnt.png'\n",
    "print(\" Saving figure as\", savename, \"\\n\")\n",
    "plt.savefig(savename, dpi = 400)  \n",
    "\n",
    "# Show plot\n",
    "plt.show()\n"
   ]
  },
  {
   "cell_type": "code",
   "execution_count": null,
   "metadata": {},
   "outputs": [],
   "source": [
    "import numpy as np\n",
    "\n",
    "# Example input data\n",
    "i_indices = np.array([1, 1, 2, 3, 3, 3])\n",
    "j_indices = np.array([2, 2, 3, 1, 1, 2])\n",
    "observations = np.array([10, 20, 30, 40, 50, 60])\n",
    "\n",
    "# Get unique pairs of (i, j) indices\n",
    "unique_pairs, indices = np.unique(np.column_stack((i_indices, j_indices)), axis=0, return_inverse=True)\n",
    "\n",
    "# Group observations by (i, j) pairs\n",
    "grouped_observations = np.zeros(len(unique_pairs))\n",
    "for i in range(len(unique_pairs)):\n",
    "    mask = (indices == i)\n",
    "    observations_for_pair = observations[mask]\n",
    "    grouped_observations[i] = np.sum(observations_for_pair)\n",
    "\n",
    "# Print the result\n",
    "print(\"Grouped observations:\")\n",
    "print(grouped_observations)"
   ]
  },
  {
   "cell_type": "code",
   "execution_count": null,
   "metadata": {},
   "outputs": [],
   "source": [
    "observations_by_pair = {}\n",
    "for i, j, obs in zip(i_indices, j_indices, observations):\n",
    "    pair = (i, j)\n",
    "    if pair in observations_by_pair:\n",
    "        observations_by_pair[pair].append(obs)\n",
    "    else:\n",
    "        observations_by_pair[pair] = [obs]\n",
    "\n",
    "observations_by_pair[(3, 1)]"
   ]
  },
  {
   "cell_type": "code",
   "execution_count": 8,
   "metadata": {},
   "outputs": [
    {
     "name": "stdout",
     "output_type": "stream",
     "text": [
      "Pair (832, 251) has the most observations (50.0).\n",
      "Pair (823, 278) has 45.0 observations.\n",
      "Pair (832, 252) has 46.0 observations.\n",
      "Pair (466, 234) has 46.0 observations.\n",
      "Pair (472, 218) has 45.0 observations.\n",
      "Pair (1180, 272) has 47.0 observations.\n",
      "Pair (469, 233) has 47.0 observations.\n",
      "Pair (835, 251) has 48.0 observations.\n",
      "Pair (1180, 271) has 48.0 observations.\n",
      "Pair (469, 234) has 49.0 observations.\n",
      "Pair (832, 251) has 50.0 observations.\n"
     ]
    },
    {
     "data": {
      "image/png": "[encoded data removed]",
      "text/plain": [
       "<Figure size 640x480 with 2 Axes>"
      ]
     },
     "metadata": {},
     "output_type": "display_data"
    },
    {
     "name": "stdout",
     "output_type": "stream",
     "text": [
      "Indices of observations for pair (832, 251): [101968, 106034, 119149, 123205, 127421, 156056, 178410, 186108, 189785, 193827, 291627, 317292, 340915, 360926, 370809, 383881, 521394, 530958, 539556, 542738, 663680, 727883, 733027, 735690, 768696, 793808, 814368, 888820, 949433, 951984, 962988, 999049, 1004365, 1023898, 1029341, 1060663, 1227747, 1297090, 1369965, 1380638, 1425069, 1437429, 1445905, 1546259, 1550539, 1553521, 1568657, 1582380, 1613355, 1627974]\n",
      "[0.12066666 0.07       0.31599998 0.36399999 0.223      0.13\n",
      " 0.3075     0.1455     0.14300001 0.18000001 0.15700001 0.2175\n",
      " 0.241      0.30250001 0.07433333 0.18866666 0.19400001 0.24199998\n",
      " 0.21233332 0.19499999 0.14649999 0.149      0.2245     0.15799999\n",
      " 0.352      0.226      0.14399999 0.068      0.19049999 0.105\n",
      " 0.37799999 0.14649999 0.14300001 0.133      0.14300001 0.11\n",
      " 0.19600001 0.24700001 0.25266668 0.0885     0.1565     0.145\n",
      " 0.38150001 0.19150001 0.2105     0.22233336 0.139      0.175\n",
      " 0.2965     0.155     ]\n"
     ]
    }
   ],
   "source": [
    "indices_i = i_out.astype(int)\n",
    "indices_j = j_out.astype(int)\n",
    "observations = obs_obs\n",
    "\n",
    "pair_count = np.zeros((indices_i.max()+1, indices_j.max()+1))\n",
    "\n",
    "observations_by_pair = {}\n",
    "\n",
    "for i, j, obs in zip(indices_i, indices_j, observations):\n",
    "    if i != 0 or j != 0:\n",
    "        if (i, j) in observations_by_pair:\n",
    "            observations_by_pair[(i, j)].append(obs)\n",
    "        else:\n",
    "            observations_by_pair[(i, j)] = [obs]\n",
    "\n",
    "        pair_count[int(i), int(j)] += 1\n",
    "\n",
    "# Print counts for each pair\n",
    "#for pair, count in np.ndenumerate(pair_count):\n",
    "#    print(f\"Pair {pair}: {count} observations\")    \n",
    "\n",
    "# Find pair with the most observations\n",
    "max_pair = np.unravel_index(np.argmax(pair_count), pair_count.shape)\n",
    "print(f\"Pair {max_pair} has the most observations ({pair_count[max_pair]}).\")\n",
    "\n",
    "# Get indices of the top 10 pairs with the most counts\n",
    "n_top_pairs = 10\n",
    "flat_counts = pair_count.flatten()\n",
    "top_indices = np.argpartition(flat_counts, -n_top_pairs)[-n_top_pairs:]\n",
    "top_pairs = np.unravel_index(top_indices, pair_count.shape)\n",
    "\n",
    "# Print the top 10 pairs and their counts\n",
    "for i, j in zip(top_pairs[0], top_pairs[1]):\n",
    "    count = pair_count[i, j]\n",
    "    print(f\"Pair ({i}, {j}) has {count} observations.\")\n",
    "\n",
    "\n",
    "plt.imshow(pair_count, cmap='coolwarm')\n",
    "plt.colorbar()\n",
    "plt.show()\n",
    "\n",
    "# Find indices of observations for max_pair\n",
    "max_pair_indices = []\n",
    "for idx, (i, j) in enumerate(zip(indices_i, indices_j)):\n",
    "    if i == max_pair[0] and j == max_pair[1]:\n",
    "        max_pair_indices.append(idx)\n",
    "\n",
    "# Print indices of observations for max_pair\n",
    "print(f\"Indices of observations for pair {max_pair}: {max_pair_indices}\")\n",
    "\n",
    "print(observations[max_pair_indices])\n"
   ]
  },
  {
   "cell_type": "code",
   "execution_count": 9,
   "metadata": {},
   "outputs": [
    {
     "data": {
      "image/png": "[encoded data removed]",
      "text/plain": [
       "<Figure size 640x480 with 1 Axes>"
      ]
     },
     "metadata": {},
     "output_type": "display_data"
    }
   ],
   "source": [
    "data1 = obs_obs[max_pair_indices]\n",
    "data2 = tmp_obs[max_pair_indices]\n",
    "data3 = obs_fcst[max_pair_indices]\n",
    "\n",
    "# Define bin edges\n",
    "combined_data = np.concatenate([data1, data2, data3])\n",
    "bin_edges = np.linspace(np.min(combined_data), np.max(combined_data), 51)\n",
    "\n",
    "# Plot histogram as a line\n",
    "fig, ax = plt.subplots()\n",
    "\n",
    "n1, bins, patches = ax.hist(data1, density=False, bins=bin_edges, alpha=0.4, label='Original')\n",
    "n2, bins, patches = ax.hist(data2, density=False, bins=bin_edges, alpha=0.4, label='Scaled')\n",
    "n3, bins, patches = ax.hist(data3, density=False, bins=bin_edges, alpha=0.9, label='Model', histtype='step')\n",
    "\n",
    "# Add labels and title\n",
    "ax.set_xlabel('ASCAT Wetness')\n",
    "ax.set_ylabel('Count')\n",
    "ax.set_title('Observations Distribution')\n",
    "ax.legend()\n",
    "\n",
    "# savename = 'obs_dis_cnt.png'\n",
    "# print(\" Saving figure as\", savename, \"\\n\")\n",
    "# plt.savefig(savename, dpi = 400)  \n",
    "\n",
    "# Show plot\n",
    "plt.show()\n"
   ]
  }
 ],
 "metadata": {
  "kernelspec": {
   "display_name": "xr",
   "language": "python",
   "name": "python3"
  },
  "language_info": {
   "codemirror_mode": {
    "name": "ipython",
    "version": 3
   },
   "file_extension": ".py",
   "mimetype": "text/x-python",
   "name": "python",
   "nbconvert_exporter": "python",
   "pygments_lexer": "ipython3",
   "version": "3.11.3"
  },
  "orig_nbformat": 4
 },
 "nbformat": 4,
 "nbformat_minor": 2
}
