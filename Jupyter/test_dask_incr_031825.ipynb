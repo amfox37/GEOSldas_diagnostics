{
 "cells": [
  {
   "cell_type": "code",
   "execution_count": 1,
   "metadata": {},
   "outputs": [],
   "source": [
    "import os\n",
    "import glob\n",
    "import xarray as xr\n",
    "import numpy as np\n",
    "import importlib.util\n",
    "from datetime import datetime"
   ]
  },
  {
   "cell_type": "code",
   "execution_count": 2,
   "metadata": {},
   "outputs": [],
   "source": [
    "# --- User-defined experiment name and root directory ---\n",
    "expt_name = 'DAv7_M36_MULTI_type_13_comb_fp_scaled'\n",
    "root_directory = f'/discover/nobackup/projects/land_da/Experiment_archive/{expt_name}/output/SMAP_EASEv2_M36_GLOBAL/cat/ens_avg'\n",
    "# root_directory = f'/Users/amfox/Desktop/GEOSldas_diagnostics/test_data/fp_scaled/output/SMAP_EASEv2_M36_GLOBAL/cat/ens_avg'\n",
    "\n",
    "# --- Define fixed start and end dates ---\n",
    "start_date = datetime(2015, 4, 1)\n",
    "end_date = datetime(2021, 4, 1)  # 6 years later\n",
    "\n",
    "start_date_str = start_date.strftime('%Y%m%d')\n",
    "end_date_str = end_date.strftime('%Y%m%d')"
   ]
  },
  {
   "cell_type": "code",
   "execution_count": 3,
   "metadata": {},
   "outputs": [
    {
     "name": "stdout",
     "output_type": "stream",
     "text": [
      "Dask version: 2025.2.0\n",
      "\n",
      "Available xarray engines:\n",
      "{'netcdf4': <NetCDF4BackendEntrypoint>\n",
      "  Open netCDF (.nc, .nc4 and .cdf) and most HDF5 files using netCDF4 in Xarray\n",
      "  Learn more at https://docs.xarray.dev/en/stable/generated/xarray.backends.NetCDF4BackendEntrypoint.html, 'h5netcdf': <H5netcdfBackendEntrypoint>\n",
      "  Open netCDF (.nc, .nc4 and .cdf) and most HDF5 files using h5netcdf in Xarray\n",
      "  Learn more at https://docs.xarray.dev/en/stable/generated/xarray.backends.H5netcdfBackendEntrypoint.html, 'store': <StoreBackendEntrypoint>\n",
      "  Open AbstractDataStore instances in Xarray\n",
      "  Learn more at https://docs.xarray.dev/en/stable/generated/xarray.backends.StoreBackendEntrypoint.html}\n",
      "\n",
      "Checking if 'dask.array' is importable:\n",
      "dask.array is available.\n"
     ]
    }
   ],
   "source": [
    "\n",
    "# --- Check if dask is available and show debug info ---\n",
    "try:\n",
    "    import dask\n",
    "    dask_available = True\n",
    "    print(f\"Dask version: {dask.__version__}\")\n",
    "except ImportError:\n",
    "    dask_available = False\n",
    "    print(\"Dask not available.\")\n",
    "\n",
    "# --- List available engines and chunk managers ---\n",
    "print(\"\\nAvailable xarray engines:\")\n",
    "print(xr.backends.list_engines())\n",
    "\n",
    "print(\"\\nChecking if 'dask.array' is importable:\")\n",
    "if importlib.util.find_spec(\"dask.array\") is not None:\n",
    "    print(\"dask.array is available.\")\n",
    "else:\n",
    "    print(\"dask.array is NOT available.\")\n"
   ]
  },
  {
   "cell_type": "code",
   "execution_count": null,
   "metadata": {},
   "outputs": [
    {
     "name": "stdout",
     "output_type": "stream",
     "text": [
      "Loading 2202 files\n"
     ]
    }
   ],
   "source": [
    "%%time\n",
    "\n",
    "# --- Find all matching files using glob ---\n",
    "file_pattern = os.path.join(\n",
    "    root_directory,\n",
    "    'Y*',\n",
    "    'M*',\n",
    "    f'{expt_name}.catch_progn_incr.*.nc4'\n",
    ")\n",
    "\n",
    "all_files = sorted(glob.glob(file_pattern))\n",
    "\n",
    "# --- Parse date from filenames like:\n",
    "# DAv7_M36_MULTI_type_13_comb_fp_scaled.catch_progn_incr.20160227.nc4\n",
    "selected_files = []\n",
    "for file in all_files:\n",
    "    basename = os.path.basename(file)\n",
    "    try:\n",
    "        date_str = basename.split('.')[-2]  # '20160227' just before the '.nc4'\n",
    "        file_date = datetime.strptime(date_str, '%Y%m%d')\n",
    "        if start_date <= file_date <= end_date:\n",
    "            selected_files.append(file)\n",
    "    except Exception as e:\n",
    "        continue\n",
    "\n",
    "# --- Load all selected datasets using nested combine with explicit concat_dim ---\n",
    "print(f\"Loading {len(selected_files)} files\")\n",
    "combined_ds = xr.open_mfdataset(\n",
    "    selected_files,\n",
    "    combine='nested',\n",
    "    concat_dim='time',\n",
    "    parallel=dask_available,\n",
    "    engine='netcdf4',\n",
    "    chunks={}\n",
    ")\n",
    "\n",
    "print('Done loading files.')\n"
   ]
  },
  {
   "cell_type": "code",
   "execution_count": null,
   "metadata": {},
   "outputs": [],
   "source": [
    "%%time\n",
    "\n",
    "# Rechunk after loading to ensure larger chunk sizes are used\n",
    "desired_chunks = {'time': 800, 'tile': 112573}\n",
    "print(f\"Rechunking to desired chunks: {desired_chunks}\")\n",
    "combined_ds = combined_ds.chunk(desired_chunks)"
   ]
  },
  {
   "cell_type": "code",
   "execution_count": null,
   "metadata": {},
   "outputs": [],
   "source": [
    "%%time\n",
    "\n",
    "from dask import compute\n",
    "\n",
    "thresholds = [0.0, 10.0e-7, 0.00005, 0.0001, 0.00015, 0.0002, 0.00025, 0.0003, 0.00035, 0.0004, 0.00045, 0.0005]\n",
    "computations = {}\n",
    "\n",
    "for threshold in thresholds:\n",
    "    key = f'{threshold:.5f}'.split('.')[1].rstrip('0')\n",
    "    incremented_values = (combined_ds['SRFEXC_INCR'] < -threshold) | (combined_ds['SRFEXC_INCR'] > threshold)\n",
    "    computations[f'cnt_{key}'] = incremented_values.sum(dim='time')\n",
    "    computations[f'mean_{key}'] = combined_ds['SRFEXC_INCR'].where(incremented_values).mean(dim='time', skipna=True)\n",
    "    computations[f'std_{key}'] = combined_ds['SRFEXC_INCR'].where(incremented_values).std(dim='time', skipna=True)\n",
    "\n",
    "# Compute all results in parallel\n",
    "results_computed = compute(*computations.values())\n",
    "results_keys = list(computations.keys())\n",
    "\n",
    "# Organize results back into dictionaries\n",
    "cnt_srfexc_increment = {k.replace('cnt_', ''): v for k, v in zip(results_keys, results_computed) if k.startswith('cnt_')}\n",
    "mean_srfexc_increment = {k.replace('mean_', ''): v for k, v in zip(results_keys, results_computed) if k.startswith('mean_')}\n",
    "std_srfexc_increment = {k.replace('std_', ''): v for k, v in zip(results_keys, results_computed) if k.startswith('std_')}\n",
    "\n",
    "# %% [markdown]\n",
    "# ## Save results to file"
   ]
  },
  {
   "cell_type": "code",
   "execution_count": null,
   "metadata": {},
   "outputs": [],
   "source": [
    "%%time\n",
    "output_file_srfexc = f'{expt_name}_{start_date_str}_{end_date_str}_catch_progn_incr_stats_optimized.npz'\n",
    "\n",
    "if os.path.exists(output_file_srfexc):\n",
    "    os.remove(output_file_srfexc)\n",
    "\n",
    "np.savez(output_file_srfexc,\n",
    "         **{f'cnt_srfexc_increment_{key}': cnt_srfexc_increment[key] for key in cnt_srfexc_increment},\n",
    "         **{f'mean_srfexc_increment_{key}': mean_srfexc_increment[key] for key in mean_srfexc_increment},\n",
    "         **{f'std_srfexc_increment_{key}': std_srfexc_increment[key] for key in std_srfexc_increment})\n",
    "\n",
    "print(f\"Data successfully saved to {output_file_srfexc}\")"
   ]
  },
  {
   "cell_type": "code",
   "execution_count": null,
   "metadata": {},
   "outputs": [],
   "source": [
    "# Define the thresholds and their corresponding labels\n",
    "thresholds = [0.0, 10.0e-7, 0.00005, 0.0001, 0.00015, 0.0002, 0.00025, 0.0003, 0.00035, 0.0004, 0.00045, 0.0005]\n",
    "labels = [f'Threshold: {threshold}\\n Number of srfexc increments' for threshold in thresholds]\n",
    "\n",
    "# Define the output file name\n",
    "output_file = f'{expt_name}_{start_date_str}_{end_date_str}_catch_progn_incr_stats_test_dask.npz'\n",
    "\n",
    "# Load the data from the .npz file\n",
    "data = np.load(output_file)\n",
    "\n",
    "test = data['cnt_srfexc_increment_']\n",
    "\n",
    "print(test.shape)"
   ]
  },
  {
   "cell_type": "code",
   "execution_count": null,
   "metadata": {},
   "outputs": [],
   "source": []
  }
 ],
 "metadata": {
  "kernelspec": {
   "display_name": "Python [conda env:.conda-diag]",
   "language": "python",
   "name": "conda-env-.conda-diag-py"
  },
  "language_info": {
   "codemirror_mode": {
    "name": "ipython",
    "version": 3
   },
   "file_extension": ".py",
   "mimetype": "text/x-python",
   "name": "python",
   "nbconvert_exporter": "python",
   "pygments_lexer": "ipython3",
   "version": "3.10.15"
  }
 },
 "nbformat": 4,
 "nbformat_minor": 4
}
