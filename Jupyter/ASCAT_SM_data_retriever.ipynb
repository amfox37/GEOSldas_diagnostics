{
 "cells": [
  {
   "cell_type": "code",
   "execution_count": 1,
   "metadata": {},
   "outputs": [],
   "source": [
    " # Import the library EUMDAC\n",
    "import eumdac"
   ]
  },
  {
   "cell_type": "code",
   "execution_count": 3,
   "metadata": {},
   "outputs": [],
   "source": [
    " # Insert your personal key and secret into the single quotes\n",
    "\n",
    "consumer_key = 'SCGBjjQHmcqF7Jx9IrqxyjTZ25Ua'\n",
    "consumer_secret = 'BmwtVKKbs__y_vdLKKcopenzTBca'\n",
    "\n",
    "credentials = (consumer_key, consumer_secret)\n",
    "\n",
    "token = eumdac.AccessToken(credentials)"
   ]
  },
  {
   "cell_type": "code",
   "execution_count": 4,
   "metadata": {},
   "outputs": [
    {
     "name": "stdout",
     "output_type": "stream",
     "text": [
      "This token '842be819-8e3e-3122-bef0-957129c3abe6' expires 2023-03-01 13:55:21.128830\n"
     ]
    }
   ],
   "source": [
    "print(f\"This token '{token}' expires {token.expiration}\")"
   ]
  },
  {
   "cell_type": "code",
   "execution_count": 5,
   "metadata": {},
   "outputs": [
    {
     "data": {
      "text/plain": [
       "[<class 'eumdac.collection.Collection'>(EO:EUM:DAT:MSG:MSG15-RSS),\n",
       " <class 'eumdac.collection.Collection'>(EO:EUM:DAT:MSG:RSS-CLM),\n",
       " <class 'eumdac.collection.Collection'>(EO:EUM:DAT:0411),\n",
       " <class 'eumdac.collection.Collection'>(EO:EUM:DAT:0556),\n",
       " <class 'eumdac.collection.Collection'>(EO:EUM:DAT:MSG:HRSEVIRI),\n",
       " <class 'eumdac.collection.Collection'>(EO:EUM:DAT:MSG:CLM),\n",
       " <class 'eumdac.collection.Collection'>(EO:EUM:DAT:0615),\n",
       " <class 'eumdac.collection.Collection'>(EO:EUM:DAT:0417),\n",
       " <class 'eumdac.collection.Collection'>(EO:EUM:DAT:0416),\n",
       " <class 'eumdac.collection.Collection'>(EO:EUM:DAT:0080),\n",
       " <class 'eumdac.collection.Collection'>(EO:EUM:DAT:0409),\n",
       " <class 'eumdac.collection.Collection'>(EO:EUM:DAT:0581),\n",
       " <class 'eumdac.collection.Collection'>(EO:EUM:DAT:0407),\n",
       " <class 'eumdac.collection.Collection'>(EO:EUM:DAT:0577),\n",
       " <class 'eumdac.collection.Collection'>(EO:EUM:DAT:0557),\n",
       " <class 'eumdac.collection.Collection'>(EO:EUM:DAT:MSG:HRSEVIRI-IODC),\n",
       " <class 'eumdac.collection.Collection'>(EO:EUM:DAT:MSG:CLM-IODC),\n",
       " <class 'eumdac.collection.Collection'>(EO:EUM:DAT:0578),\n",
       " <class 'eumdac.collection.Collection'>(EO:EUM:DAT:0593),\n",
       " <class 'eumdac.collection.Collection'>(EO:EUM:DAT:0592),\n",
       " <class 'eumdac.collection.Collection'>(EO:EUM:DAT:0081),\n",
       " <class 'eumdac.collection.Collection'>(EO:EUM:DAT:METOP:AVHRRL1),\n",
       " <class 'eumdac.collection.Collection'>(EO:EUM:DAT:METOP:AMSUL1),\n",
       " <class 'eumdac.collection.Collection'>(EO:EUM:DAT:METOP:MHSL1),\n",
       " <class 'eumdac.collection.Collection'>(EO:EUM:DAT:0082),\n",
       " <class 'eumdac.collection.Collection'>(EO:EUM:DAT:METOP:SOMO12),\n",
       " <class 'eumdac.collection.Collection'>(EO:EUM:DAT:METOP:SOMO25),\n",
       " <class 'eumdac.collection.Collection'>(EO:EUM:DAT:METOP:IASSND02),\n",
       " <class 'eumdac.collection.Collection'>(EO:EUM:DAT:MULT:HIRSL1),\n",
       " <class 'eumdac.collection.Collection'>(EO:EUM:DAT:0576),\n",
       " <class 'eumdac.collection.Collection'>(EO:EUM:DAT:METOP:ASCSZR1B),\n",
       " <class 'eumdac.collection.Collection'>(EO:EUM:DAT:METOP:ASCSZO1B),\n",
       " <class 'eumdac.collection.Collection'>(EO:EUM:DAT:METOP:ASCSZF1B),\n",
       " <class 'eumdac.collection.Collection'>(EO:EUM:DAT:METOP:OSI-104),\n",
       " <class 'eumdac.collection.Collection'>(EO:EUM:DAT:0533),\n",
       " <class 'eumdac.collection.Collection'>(EO:EUM:DAT:METOP:IASIL1C-ALL),\n",
       " <class 'eumdac.collection.Collection'>(EO:EUM:DAT:0584),\n",
       " <class 'eumdac.collection.Collection'>(EO:EUM:DAT:0586),\n",
       " <class 'eumdac.collection.Collection'>(EO:EUM:DAT:0406),\n",
       " <class 'eumdac.collection.Collection'>(EO:EUM:DAT:0415),\n",
       " <class 'eumdac.collection.Collection'>(EO:EUM:DAT:0583),\n",
       " <class 'eumdac.collection.Collection'>(EO:EUM:DAT:0585),\n",
       " <class 'eumdac.collection.Collection'>(EO:EUM:DAT:0412),\n",
       " <class 'eumdac.collection.Collection'>(EO:EUM:DAT:0414),\n",
       " <class 'eumdac.collection.Collection'>(EO:EUM:DAT:0413),\n",
       " <class 'eumdac.collection.Collection'>(EO:EUM:DAT:METOP:GOMEL1),\n",
       " <class 'eumdac.collection.Collection'>(EO:EUM:CM:METOP:ASCSZFR02),\n",
       " <class 'eumdac.collection.Collection'>(EO:EUM:CM:METOP:ASCSZOR02),\n",
       " <class 'eumdac.collection.Collection'>(EO:EUM:CM:METOP:ASCSZRR02),\n",
       " <class 'eumdac.collection.Collection'>(EO:EUM:DAT:METOP:OSI-150-B),\n",
       " <class 'eumdac.collection.Collection'>(EO:EUM:DAT:METOP:OSI-150-A),\n",
       " <class 'eumdac.collection.Collection'>(EO:EUM:DAT:0410),\n",
       " <class 'eumdac.collection.Collection'>(EO:EUM:DAT:0408),\n",
       " <class 'eumdac.collection.Collection'>(EO:EUM:DAT:0241),\n",
       " <class 'eumdac.collection.Collection'>(EO:EUM:DAT:0237),\n",
       " <class 'eumdac.collection.Collection'>(EO:EUM:DAT:0239),\n",
       " <class 'eumdac.collection.Collection'>(EO:EUM:DAT:0236),\n",
       " <class 'eumdac.collection.Collection'>(EO:EUM:DAT:0238),\n",
       " <class 'eumdac.collection.Collection'>(EO:EUM:DAT:0240),\n",
       " <class 'eumdac.collection.Collection'>(EO:EUM:DAT:0582),\n",
       " <class 'eumdac.collection.Collection'>(EO:EUM:DAT:METOP:GLB-SST-NC)]"
      ]
     },
     "execution_count": 5,
     "metadata": {},
     "output_type": "execute_result"
    }
   ],
   "source": [
    "# Retrieve all collection objects from DataStore\n",
    "datastore = eumdac.DataStore(token)\n",
    "datastore.collections"
   ]
  },
  {
   "cell_type": "code",
   "execution_count": 6,
   "metadata": {},
   "outputs": [
    {
     "name": "stdout",
     "output_type": "stream",
     "text": [
      "EO:EUM:DAT:MSG:MSG15-RSS - Rapid Scan High Rate SEVIRI Level 1.5 Image Data - MSG\n",
      "EO:EUM:DAT:MSG:RSS-CLM - Rapid Scan Cloud Mask - MSG\n",
      "EO:EUM:DAT:0411 - SLSTR Level 1B Radiances and Brightness Temperatures - Sentinel-3\n",
      "EO:EUM:DAT:0556 - OLCI Level 2 Ocean Colour Full Resolution (version BC003) - Sentinel-3 - Reprocessed\n",
      "EO:EUM:DAT:MSG:HRSEVIRI - High Rate SEVIRI Level 1.5 Image Data - MSG - 0 degree\n",
      "EO:EUM:DAT:MSG:CLM - Cloud Mask - MSG - 0 degree\n",
      "EO:EUM:DAT:0615 - SLSTR Level 1B Radiances and Brightness Temperatures (version BC004) - Sentinel-3 - Reprocessed\n",
      "EO:EUM:DAT:0417 - SLSTR Level 2 Fire Radiative Power - Sentinel 3\n",
      "EO:EUM:DAT:0416 - SLSTR Level 2 Aerosol Optical Depth - Sentinel-3\n",
      "EO:EUM:DAT:0080 - MVIRI Level 1.5 Climate Data Record Release 1 - MFG - 0 degree\n",
      "EO:EUM:DAT:0409 - OLCI Level 1B Full Resolution - Sentinel-3\n",
      "EO:EUM:DAT:0581 - SLSTR Level 1B Radiances and Brightness Temperatures (version BC003) - Sentinel-3 - Reprocessed\n",
      "EO:EUM:DAT:0407 - OLCI Level 2 Ocean Colour Full Resolution - Sentinel-3\n",
      "EO:EUM:DAT:0577 - OLCI Level 1B Full Resolution (version BC002) - Sentinel-3 - Reprocessed\n",
      "EO:EUM:DAT:0557 - OLCI Level 2 Ocean Colour Reduced Resolution (version BC003) - Sentinel-3 - Reprocessed\n",
      "EO:EUM:DAT:MSG:HRSEVIRI-IODC - High Rate SEVIRI Level 1.5 Image Data - MSG - Indian Ocean\n",
      "EO:EUM:DAT:MSG:CLM-IODC - Cloud Mask - MSG - Indian Ocean\n",
      "EO:EUM:DAT:0578 - OLCI Level 1B Reduced Resolution (version BC002) - Sentinel-3 - Reprocessed\n",
      "EO:EUM:DAT:0593 - OLCI Level 2 Ocean Colour Reduced Resolution (version BC002) - Sentinel-3 - Reprocessed\n",
      "EO:EUM:DAT:0592 - OLCI Level 2 Ocean Colour Full Resolution (version BC002) - Sentinel-3 - Reprocessed\n",
      "EO:EUM:DAT:0081 - MVIRI Level 1.5 Climate Data Record Release 1 - MFG - 57 degree\n",
      "EO:EUM:DAT:METOP:AVHRRL1 - AVHRR Level 1B - Metop - Global\n",
      "EO:EUM:DAT:METOP:AMSUL1 - AMSU-A Level 1B - Metop - Global\n",
      "EO:EUM:DAT:METOP:MHSL1 - MHS Level 1B - Metop - Global\n",
      "EO:EUM:DAT:0082 - MVIRI Level 1.5 Climate Data Record Release 1 - MFG - 63 degree\n",
      "EO:EUM:DAT:METOP:SOMO12 - ASCAT Soil Moisture at 12.5 km Swath Grid in NRT - Metop\n",
      "EO:EUM:DAT:METOP:SOMO25 - ASCAT Soil Moisture at 25 km Swath Grid in NRT - Metop\n",
      "EO:EUM:DAT:METOP:IASSND02 - IASI Combined Sounding Products - Metop\n",
      "EO:EUM:DAT:MULT:HIRSL1 - HIRS Level 1B - Metop - Global\n",
      "EO:EUM:DAT:0576 - IASI All Sky Temperature and Humidity Profiles - Climate Data Record Release 1.1 - Metop-A and -B\n",
      "EO:EUM:DAT:METOP:ASCSZR1B - ASCAT Level 1 Sigma0 resampled at 12.5 km Swath Grid - Metop - Global\n",
      "EO:EUM:DAT:METOP:ASCSZO1B - ASCAT Level 1 Sigma0 resampled at 25 km Swath Grid - Metop - Global\n",
      "EO:EUM:DAT:METOP:ASCSZF1B - ASCAT Level 1 Sigma0 Full Resolution - Metop - Global\n",
      "EO:EUM:DAT:METOP:OSI-104 - ASCAT Coastal Winds at 12.5 km Swath Grid - Metop\n",
      "EO:EUM:DAT:0533 - GOME-2 Level 1B Fundamental Data Record Release 3 - Metop-A and -B\n",
      "EO:EUM:DAT:METOP:IASIL1C-ALL - IASI Level 1C - All Spectral Samples - Metop - Global\n",
      "EO:EUM:DAT:0584 - SRAL Level 1B (version BC004) - Sentinel-3 - Reprocessed\n",
      "EO:EUM:DAT:0586 - SRAL Level 2 Altimetry Global (version BC004) - Sentinel-3 - Reprocessed\n",
      "EO:EUM:DAT:0406 - SRAL Level 1B - Sentinel-3\n",
      "EO:EUM:DAT:0415 - SRAL Level 2 Altimetry Global - Sentinel-3\n",
      "EO:EUM:DAT:0583 - SRAL Level 1A Unpacked L0 Complex Echoes (version BC004) - Sentinel-3 - Reprocessed\n",
      "EO:EUM:DAT:0585 - SRAL Level 1B Stack Echoes (version BC004) - Sentinel-3 - Reprocessed\n",
      "EO:EUM:DAT:0412 - SLSTR Level 2 Sea Surface Temperature (SST) - Sentinel-3\n",
      "EO:EUM:DAT:0414 - SRAL Level 1B stack echoes - Sentinel-3\n",
      "EO:EUM:DAT:0413 - SRAL Level 1A Unpacked L0 Complex echos - Sentinel-3\n",
      "EO:EUM:DAT:METOP:GOMEL1 - GOME-2 Level 1B - Metop - Global\n",
      "EO:EUM:CM:METOP:ASCSZFR02 - ASCAT Level 1 SZF Climate Data Record Release 2 - Metop\n",
      "EO:EUM:CM:METOP:ASCSZOR02 - ASCAT Level 1 SZO Climate Data Record Release 2 - Metop\n",
      "EO:EUM:CM:METOP:ASCSZRR02 - ASCAT Level 1 SZR Climate Data Record Release 2 - Metop\n",
      "EO:EUM:DAT:METOP:OSI-150-B - ASCAT L2 12.5 km Winds Data Record Release 1 - Metop\n",
      "EO:EUM:DAT:METOP:OSI-150-A - ASCAT L2 25 km Winds Data Record Release 1 - Metop\n",
      "EO:EUM:DAT:0410 - OLCI Level 1B Reduced Resolution - Sentinel-3\n",
      "EO:EUM:DAT:0408 - OLCI Level 2 Ocean Colour Reduced Resolution - Sentinel-3\n",
      "EO:EUM:DAT:0241 - Climate-quality Advanced Microwave Radiometer Level 2 Products (baseline version F06) - Sentinel-6 - Reprocessed\n",
      "EO:EUM:DAT:0237 - Poseidon-4 Altimetry Level 1B Low Resolution (baseline version F06) - Sentinel-6 - Reprocessed\n",
      "EO:EUM:DAT:0239 - Poseidon-4 Altimetry Level 2 Low Resolution (baseline version F06) - Sentinel-6 - Reprocessed\n",
      "EO:EUM:DAT:0236 - Poseidon-4 Altimetry Level 1A High Resolution (baseline version F06) - Sentinel-6 - Reprocessed\n",
      "EO:EUM:DAT:0238 - Poseidon-4 Altimetry Level 1B High Resolution (baseline version F06) - Sentinel-6 - Reprocessed\n",
      "EO:EUM:DAT:0240 - Poseidon-4 Altimetry Level 2 High Resolution (baseline version F06) - Sentinel-6 - Reprocessed\n",
      "EO:EUM:DAT:0582 - SLSTR Level 2 Sea Surface Temperature (SST) (version BC003) - Sentinel-3 - Reprocessed\n",
      "EO:EUM:DAT:METOP:GLB-SST-NC - Global L3C AVHRR Sea Surface Temperature (GHRSST) - Metop\n"
     ]
    }
   ],
   "source": [
    "for collection in datastore.collections:\n",
    "    print(f\"{collection} - {collection.title}\")"
   ]
  },
  {
   "cell_type": "code",
   "execution_count": 10,
   "metadata": {},
   "outputs": [],
   "source": [
    " # Select our collection\n",
    "selected_collection = datastore.get_collection('EO:EUM:DAT:METOP:SOMO25')"
   ]
  },
  {
   "cell_type": "code",
   "execution_count": 11,
   "metadata": {},
   "outputs": [],
   "source": [
    "# To make the collection output more clear we'll use the \n",
    "# HTML module of IPython. It is not mandatory for EUMDAC.\n",
    "\n",
    "from IPython.core.display import HTML"
   ]
  },
  {
   "cell_type": "code",
   "execution_count": 12,
   "metadata": {},
   "outputs": [
    {
     "data": {
      "text/html": [
       "<b>ASCAT Soil Moisture at 25 km Swath Grid in NRT - Metop</b>"
      ],
      "text/plain": [
       "<IPython.core.display.HTML object>"
      ]
     },
     "metadata": {},
     "output_type": "display_data"
    },
    {
     "data": {
      "text/html": [
       "<b>ID:</b> EO:EUM:DAT:METOP:SOMO25"
      ],
      "text/plain": [
       "<IPython.core.display.HTML object>"
      ]
     },
     "metadata": {},
     "output_type": "display_data"
    },
    {
     "data": {
      "text/html": [
       "<b>Abstract:</b> The Soil Moisture (SM) product is derived from the Advanced SCATterometer (ASCAT) backscatter observations and given in swath orbit geometry (25 km sampling). This SM product provides an estimate of the water content of the 0-5 cm topsoil layer, expressed in degree of saturation between 0 and 100 [%]. The algorithm used to derive this parameter is based on a linear relationship of SM and scatterometer backscatter and uses change detection techniques to eliminate the contributions of vegetation, land cover and surface topography, considered invariant from year to year. Seasonal vegetation effects are modelled by exploiting the multi-angle viewing capabilities of ASCAT. The SM processor has been developed by Vienna University of Technology (TU Wien). Note that some of the data are reprocessed. Please refer to the associated product validation reports or product release notes for further information. Metop-A data are available in the Data Centre up to 15/11/2021."
      ],
      "text/plain": [
       "<IPython.core.display.HTML object>"
      ]
     },
     "metadata": {},
     "output_type": "display_data"
    }
   ],
   "source": [
    "# Display the details for the selected collection\n",
    "display(HTML('<b>'+selected_collection.title+'</b>'))\n",
    "display(HTML('<b>ID:</b> '+str(selected_collection)))\n",
    "display(HTML('<b>Abstract:</b> '+selected_collection.abstract))"
   ]
  }
 ],
 "metadata": {
  "kernelspec": {
   "display_name": "eumdac",
   "language": "python",
   "name": "python3"
  },
  "language_info": {
   "codemirror_mode": {
    "name": "ipython",
    "version": 3
   },
   "file_extension": ".py",
   "mimetype": "text/x-python",
   "name": "python",
   "nbconvert_exporter": "python",
   "pygments_lexer": "ipython3",
   "version": "3.9.13"
  },
  "orig_nbformat": 4,
  "vscode": {
   "interpreter": {
    "hash": "9d71cb9422c12036d41f1591071d7d31872dbed0e57fae2561792e6202242d44"
   }
  }
 },
 "nbformat": 4,
 "nbformat_minor": 2
}
