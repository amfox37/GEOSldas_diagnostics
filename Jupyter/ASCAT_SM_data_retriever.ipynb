{
 "cells": [
  {
   "cell_type": "code",
   "execution_count": 21,
   "metadata": {},
   "outputs": [],
   "source": [
    " # Import the library EUMDAC\n",
    "import eumdac"
   ]
  },
  {
   "cell_type": "code",
   "execution_count": 22,
   "metadata": {},
   "outputs": [],
   "source": [
    " # Insert your personal key and secret into the single quotes\n",
    "\n",
    "consumer_key = 'SCGBjjQHmcqF7Jx9IrqxyjTZ25Ua'\n",
    "consumer_secret = 'BmwtVKKbs__y_vdLKKcopenzTBca'\n",
    "\n",
    "credentials = (consumer_key, consumer_secret)\n",
    "\n",
    "token = eumdac.AccessToken(credentials)"
   ]
  },
  {
   "cell_type": "code",
   "execution_count": 23,
   "metadata": {},
   "outputs": [
    {
     "name": "stdout",
     "output_type": "stream",
     "text": [
      "This token '18b5e599-f1f2-3a19-ab31-2e86204a00d7' expires 2023-03-01 15:55:22.995315\n"
     ]
    }
   ],
   "source": [
    "print(f\"This token '{token}' expires {token.expiration}\")"
   ]
  },
  {
   "cell_type": "code",
   "execution_count": 24,
   "metadata": {},
   "outputs": [
    {
     "data": {
      "text/plain": [
       "[<class 'eumdac.collection.Collection'>(EO:EUM:DAT:MSG:MSG15-RSS),\n",
       " <class 'eumdac.collection.Collection'>(EO:EUM:DAT:MSG:RSS-CLM),\n",
       " <class 'eumdac.collection.Collection'>(EO:EUM:DAT:0411),\n",
       " <class 'eumdac.collection.Collection'>(EO:EUM:DAT:0556),\n",
       " <class 'eumdac.collection.Collection'>(EO:EUM:DAT:MSG:HRSEVIRI),\n",
       " <class 'eumdac.collection.Collection'>(EO:EUM:DAT:MSG:CLM),\n",
       " <class 'eumdac.collection.Collection'>(EO:EUM:DAT:0615),\n",
       " <class 'eumdac.collection.Collection'>(EO:EUM:DAT:0417),\n",
       " <class 'eumdac.collection.Collection'>(EO:EUM:DAT:0416),\n",
       " <class 'eumdac.collection.Collection'>(EO:EUM:DAT:0080),\n",
       " <class 'eumdac.collection.Collection'>(EO:EUM:DAT:0409),\n",
       " <class 'eumdac.collection.Collection'>(EO:EUM:DAT:0581),\n",
       " <class 'eumdac.collection.Collection'>(EO:EUM:DAT:0407),\n",
       " <class 'eumdac.collection.Collection'>(EO:EUM:DAT:0577),\n",
       " <class 'eumdac.collection.Collection'>(EO:EUM:DAT:0557),\n",
       " <class 'eumdac.collection.Collection'>(EO:EUM:DAT:MSG:HRSEVIRI-IODC),\n",
       " <class 'eumdac.collection.Collection'>(EO:EUM:DAT:MSG:CLM-IODC),\n",
       " <class 'eumdac.collection.Collection'>(EO:EUM:DAT:0578),\n",
       " <class 'eumdac.collection.Collection'>(EO:EUM:DAT:0593),\n",
       " <class 'eumdac.collection.Collection'>(EO:EUM:DAT:0592),\n",
       " <class 'eumdac.collection.Collection'>(EO:EUM:DAT:0081),\n",
       " <class 'eumdac.collection.Collection'>(EO:EUM:DAT:METOP:AVHRRL1),\n",
       " <class 'eumdac.collection.Collection'>(EO:EUM:DAT:METOP:AMSUL1),\n",
       " <class 'eumdac.collection.Collection'>(EO:EUM:DAT:METOP:MHSL1),\n",
       " <class 'eumdac.collection.Collection'>(EO:EUM:DAT:0082),\n",
       " <class 'eumdac.collection.Collection'>(EO:EUM:DAT:METOP:SOMO12),\n",
       " <class 'eumdac.collection.Collection'>(EO:EUM:DAT:METOP:SOMO25),\n",
       " <class 'eumdac.collection.Collection'>(EO:EUM:DAT:METOP:IASSND02),\n",
       " <class 'eumdac.collection.Collection'>(EO:EUM:DAT:MULT:HIRSL1),\n",
       " <class 'eumdac.collection.Collection'>(EO:EUM:DAT:0576),\n",
       " <class 'eumdac.collection.Collection'>(EO:EUM:DAT:METOP:ASCSZR1B),\n",
       " <class 'eumdac.collection.Collection'>(EO:EUM:DAT:METOP:ASCSZO1B),\n",
       " <class 'eumdac.collection.Collection'>(EO:EUM:DAT:METOP:ASCSZF1B),\n",
       " <class 'eumdac.collection.Collection'>(EO:EUM:DAT:METOP:OSI-104),\n",
       " <class 'eumdac.collection.Collection'>(EO:EUM:DAT:0533),\n",
       " <class 'eumdac.collection.Collection'>(EO:EUM:DAT:METOP:IASIL1C-ALL),\n",
       " <class 'eumdac.collection.Collection'>(EO:EUM:DAT:0584),\n",
       " <class 'eumdac.collection.Collection'>(EO:EUM:DAT:0586),\n",
       " <class 'eumdac.collection.Collection'>(EO:EUM:DAT:0406),\n",
       " <class 'eumdac.collection.Collection'>(EO:EUM:DAT:0415),\n",
       " <class 'eumdac.collection.Collection'>(EO:EUM:DAT:0583),\n",
       " <class 'eumdac.collection.Collection'>(EO:EUM:DAT:0585),\n",
       " <class 'eumdac.collection.Collection'>(EO:EUM:DAT:0412),\n",
       " <class 'eumdac.collection.Collection'>(EO:EUM:DAT:0414),\n",
       " <class 'eumdac.collection.Collection'>(EO:EUM:DAT:0413),\n",
       " <class 'eumdac.collection.Collection'>(EO:EUM:DAT:METOP:GOMEL1),\n",
       " <class 'eumdac.collection.Collection'>(EO:EUM:CM:METOP:ASCSZFR02),\n",
       " <class 'eumdac.collection.Collection'>(EO:EUM:CM:METOP:ASCSZOR02),\n",
       " <class 'eumdac.collection.Collection'>(EO:EUM:CM:METOP:ASCSZRR02),\n",
       " <class 'eumdac.collection.Collection'>(EO:EUM:DAT:METOP:OSI-150-B),\n",
       " <class 'eumdac.collection.Collection'>(EO:EUM:DAT:METOP:OSI-150-A),\n",
       " <class 'eumdac.collection.Collection'>(EO:EUM:DAT:0410),\n",
       " <class 'eumdac.collection.Collection'>(EO:EUM:DAT:0408),\n",
       " <class 'eumdac.collection.Collection'>(EO:EUM:DAT:0241),\n",
       " <class 'eumdac.collection.Collection'>(EO:EUM:DAT:0237),\n",
       " <class 'eumdac.collection.Collection'>(EO:EUM:DAT:0239),\n",
       " <class 'eumdac.collection.Collection'>(EO:EUM:DAT:0236),\n",
       " <class 'eumdac.collection.Collection'>(EO:EUM:DAT:0238),\n",
       " <class 'eumdac.collection.Collection'>(EO:EUM:DAT:0240),\n",
       " <class 'eumdac.collection.Collection'>(EO:EUM:DAT:0582),\n",
       " <class 'eumdac.collection.Collection'>(EO:EUM:DAT:METOP:GLB-SST-NC)]"
      ]
     },
     "execution_count": 24,
     "metadata": {},
     "output_type": "execute_result"
    }
   ],
   "source": [
    "# Retrieve all collection objects from DataStore\n",
    "datastore = eumdac.DataStore(token)\n",
    "datastore.collections"
   ]
  },
  {
   "cell_type": "code",
   "execution_count": 25,
   "metadata": {},
   "outputs": [
    {
     "name": "stdout",
     "output_type": "stream",
     "text": [
      "EO:EUM:DAT:MSG:MSG15-RSS - Rapid Scan High Rate SEVIRI Level 1.5 Image Data - MSG\n",
      "EO:EUM:DAT:MSG:RSS-CLM - Rapid Scan Cloud Mask - MSG\n",
      "EO:EUM:DAT:0411 - SLSTR Level 1B Radiances and Brightness Temperatures - Sentinel-3\n",
      "EO:EUM:DAT:0556 - OLCI Level 2 Ocean Colour Full Resolution (version BC003) - Sentinel-3 - Reprocessed\n",
      "EO:EUM:DAT:MSG:HRSEVIRI - High Rate SEVIRI Level 1.5 Image Data - MSG - 0 degree\n",
      "EO:EUM:DAT:MSG:CLM - Cloud Mask - MSG - 0 degree\n",
      "EO:EUM:DAT:0615 - SLSTR Level 1B Radiances and Brightness Temperatures (version BC004) - Sentinel-3 - Reprocessed\n",
      "EO:EUM:DAT:0417 - SLSTR Level 2 Fire Radiative Power - Sentinel 3\n",
      "EO:EUM:DAT:0416 - SLSTR Level 2 Aerosol Optical Depth - Sentinel-3\n",
      "EO:EUM:DAT:0080 - MVIRI Level 1.5 Climate Data Record Release 1 - MFG - 0 degree\n",
      "EO:EUM:DAT:0409 - OLCI Level 1B Full Resolution - Sentinel-3\n",
      "EO:EUM:DAT:0581 - SLSTR Level 1B Radiances and Brightness Temperatures (version BC003) - Sentinel-3 - Reprocessed\n",
      "EO:EUM:DAT:0407 - OLCI Level 2 Ocean Colour Full Resolution - Sentinel-3\n",
      "EO:EUM:DAT:0577 - OLCI Level 1B Full Resolution (version BC002) - Sentinel-3 - Reprocessed\n",
      "EO:EUM:DAT:0557 - OLCI Level 2 Ocean Colour Reduced Resolution (version BC003) - Sentinel-3 - Reprocessed\n",
      "EO:EUM:DAT:MSG:HRSEVIRI-IODC - High Rate SEVIRI Level 1.5 Image Data - MSG - Indian Ocean\n",
      "EO:EUM:DAT:MSG:CLM-IODC - Cloud Mask - MSG - Indian Ocean\n",
      "EO:EUM:DAT:0578 - OLCI Level 1B Reduced Resolution (version BC002) - Sentinel-3 - Reprocessed\n",
      "EO:EUM:DAT:0593 - OLCI Level 2 Ocean Colour Reduced Resolution (version BC002) - Sentinel-3 - Reprocessed\n",
      "EO:EUM:DAT:0592 - OLCI Level 2 Ocean Colour Full Resolution (version BC002) - Sentinel-3 - Reprocessed\n",
      "EO:EUM:DAT:0081 - MVIRI Level 1.5 Climate Data Record Release 1 - MFG - 57 degree\n",
      "EO:EUM:DAT:METOP:AVHRRL1 - AVHRR Level 1B - Metop - Global\n",
      "EO:EUM:DAT:METOP:AMSUL1 - AMSU-A Level 1B - Metop - Global\n",
      "EO:EUM:DAT:METOP:MHSL1 - MHS Level 1B - Metop - Global\n",
      "EO:EUM:DAT:0082 - MVIRI Level 1.5 Climate Data Record Release 1 - MFG - 63 degree\n",
      "EO:EUM:DAT:METOP:SOMO12 - ASCAT Soil Moisture at 12.5 km Swath Grid in NRT - Metop\n",
      "EO:EUM:DAT:METOP:SOMO25 - ASCAT Soil Moisture at 25 km Swath Grid in NRT - Metop\n",
      "EO:EUM:DAT:METOP:IASSND02 - IASI Combined Sounding Products - Metop\n",
      "EO:EUM:DAT:MULT:HIRSL1 - HIRS Level 1B - Metop - Global\n",
      "EO:EUM:DAT:0576 - IASI All Sky Temperature and Humidity Profiles - Climate Data Record Release 1.1 - Metop-A and -B\n",
      "EO:EUM:DAT:METOP:ASCSZR1B - ASCAT Level 1 Sigma0 resampled at 12.5 km Swath Grid - Metop - Global\n",
      "EO:EUM:DAT:METOP:ASCSZO1B - ASCAT Level 1 Sigma0 resampled at 25 km Swath Grid - Metop - Global\n",
      "EO:EUM:DAT:METOP:ASCSZF1B - ASCAT Level 1 Sigma0 Full Resolution - Metop - Global\n",
      "EO:EUM:DAT:METOP:OSI-104 - ASCAT Coastal Winds at 12.5 km Swath Grid - Metop\n",
      "EO:EUM:DAT:0533 - GOME-2 Level 1B Fundamental Data Record Release 3 - Metop-A and -B\n",
      "EO:EUM:DAT:METOP:IASIL1C-ALL - IASI Level 1C - All Spectral Samples - Metop - Global\n",
      "EO:EUM:DAT:0584 - SRAL Level 1B (version BC004) - Sentinel-3 - Reprocessed\n",
      "EO:EUM:DAT:0586 - SRAL Level 2 Altimetry Global (version BC004) - Sentinel-3 - Reprocessed\n",
      "EO:EUM:DAT:0406 - SRAL Level 1B - Sentinel-3\n",
      "EO:EUM:DAT:0415 - SRAL Level 2 Altimetry Global - Sentinel-3\n",
      "EO:EUM:DAT:0583 - SRAL Level 1A Unpacked L0 Complex Echoes (version BC004) - Sentinel-3 - Reprocessed\n",
      "EO:EUM:DAT:0585 - SRAL Level 1B Stack Echoes (version BC004) - Sentinel-3 - Reprocessed\n",
      "EO:EUM:DAT:0412 - SLSTR Level 2 Sea Surface Temperature (SST) - Sentinel-3\n",
      "EO:EUM:DAT:0414 - SRAL Level 1B stack echoes - Sentinel-3\n",
      "EO:EUM:DAT:0413 - SRAL Level 1A Unpacked L0 Complex echos - Sentinel-3\n",
      "EO:EUM:DAT:METOP:GOMEL1 - GOME-2 Level 1B - Metop - Global\n",
      "EO:EUM:CM:METOP:ASCSZFR02 - ASCAT Level 1 SZF Climate Data Record Release 2 - Metop\n",
      "EO:EUM:CM:METOP:ASCSZOR02 - ASCAT Level 1 SZO Climate Data Record Release 2 - Metop\n",
      "EO:EUM:CM:METOP:ASCSZRR02 - ASCAT Level 1 SZR Climate Data Record Release 2 - Metop\n",
      "EO:EUM:DAT:METOP:OSI-150-B - ASCAT L2 12.5 km Winds Data Record Release 1 - Metop\n",
      "EO:EUM:DAT:METOP:OSI-150-A - ASCAT L2 25 km Winds Data Record Release 1 - Metop\n",
      "EO:EUM:DAT:0410 - OLCI Level 1B Reduced Resolution - Sentinel-3\n",
      "EO:EUM:DAT:0408 - OLCI Level 2 Ocean Colour Reduced Resolution - Sentinel-3\n",
      "EO:EUM:DAT:0241 - Climate-quality Advanced Microwave Radiometer Level 2 Products (baseline version F06) - Sentinel-6 - Reprocessed\n",
      "EO:EUM:DAT:0237 - Poseidon-4 Altimetry Level 1B Low Resolution (baseline version F06) - Sentinel-6 - Reprocessed\n",
      "EO:EUM:DAT:0239 - Poseidon-4 Altimetry Level 2 Low Resolution (baseline version F06) - Sentinel-6 - Reprocessed\n",
      "EO:EUM:DAT:0236 - Poseidon-4 Altimetry Level 1A High Resolution (baseline version F06) - Sentinel-6 - Reprocessed\n",
      "EO:EUM:DAT:0238 - Poseidon-4 Altimetry Level 1B High Resolution (baseline version F06) - Sentinel-6 - Reprocessed\n",
      "EO:EUM:DAT:0240 - Poseidon-4 Altimetry Level 2 High Resolution (baseline version F06) - Sentinel-6 - Reprocessed\n",
      "EO:EUM:DAT:0582 - SLSTR Level 2 Sea Surface Temperature (SST) (version BC003) - Sentinel-3 - Reprocessed\n",
      "EO:EUM:DAT:METOP:GLB-SST-NC - Global L3C AVHRR Sea Surface Temperature (GHRSST) - Metop\n"
     ]
    }
   ],
   "source": [
    "for collection in datastore.collections:\n",
    "    print(f\"{collection} - {collection.title}\")"
   ]
  },
  {
   "cell_type": "code",
   "execution_count": 26,
   "metadata": {},
   "outputs": [],
   "source": [
    " # Select our collection\n",
    "selected_collection = datastore.get_collection('EO:EUM:DAT:METOP:SOMO25')"
   ]
  },
  {
   "cell_type": "code",
   "execution_count": 27,
   "metadata": {},
   "outputs": [],
   "source": [
    "# To make the collection output more clear we'll use the \n",
    "# HTML module of IPython. It is not mandatory for EUMDAC.\n",
    "\n",
    "from IPython.core.display import HTML"
   ]
  },
  {
   "cell_type": "code",
   "execution_count": 28,
   "metadata": {},
   "outputs": [
    {
     "data": {
      "text/html": [
       "<b>ASCAT Soil Moisture at 25 km Swath Grid in NRT - Metop</b>"
      ],
      "text/plain": [
       "<IPython.core.display.HTML object>"
      ]
     },
     "metadata": {},
     "output_type": "display_data"
    },
    {
     "data": {
      "text/html": [
       "<b>ID:</b> EO:EUM:DAT:METOP:SOMO25"
      ],
      "text/plain": [
       "<IPython.core.display.HTML object>"
      ]
     },
     "metadata": {},
     "output_type": "display_data"
    },
    {
     "data": {
      "text/html": [
       "<b>Abstract:</b> The Soil Moisture (SM) product is derived from the Advanced SCATterometer (ASCAT) backscatter observations and given in swath orbit geometry (25 km sampling). This SM product provides an estimate of the water content of the 0-5 cm topsoil layer, expressed in degree of saturation between 0 and 100 [%]. The algorithm used to derive this parameter is based on a linear relationship of SM and scatterometer backscatter and uses change detection techniques to eliminate the contributions of vegetation, land cover and surface topography, considered invariant from year to year. Seasonal vegetation effects are modelled by exploiting the multi-angle viewing capabilities of ASCAT. The SM processor has been developed by Vienna University of Technology (TU Wien). Note that some of the data are reprocessed. Please refer to the associated product validation reports or product release notes for further information. Metop-A data are available in the Data Centre up to 15/11/2021."
      ],
      "text/plain": [
       "<IPython.core.display.HTML object>"
      ]
     },
     "metadata": {},
     "output_type": "display_data"
    }
   ],
   "source": [
    "# Display the details for the selected collection\n",
    "display(HTML('<b>'+selected_collection.title+'</b>'))\n",
    "display(HTML('<b>ID:</b> '+str(selected_collection)))\n",
    "display(HTML('<b>Abstract:</b> '+selected_collection.abstract))"
   ]
  },
  {
   "cell_type": "code",
   "execution_count": 29,
   "metadata": {},
   "outputs": [
    {
     "data": {
      "text/plain": [
       "{'bbox': {'title': 'Inventory which has a spatial extent overlapping this bounding box',\n",
       "  'options': []},\n",
       " 'geo': {'title': 'Inventory which has a spatial extent overlapping this Well Known Text geometry',\n",
       "  'options': []},\n",
       " 'title': {'title': 'Can be used to define a wildcard search on the product title (product identifier), use set notation as OR and space as AND operator between multiple search terms',\n",
       "  'options': [None]},\n",
       " 'sat': {'title': 'Mission / Satellite',\n",
       "  'options': ['Metop-A', 'Metop-B', 'Metop-C']},\n",
       " 'type': {'title': 'Product Type', 'options': ['ASCSMO02']},\n",
       " 'dtstart': {'title': 'Temporal Start', 'options': []},\n",
       " 'dtend': {'title': 'Temporal End', 'options': []},\n",
       " 'publication': {'title': 'publication date', 'options': []},\n",
       " 'zone': {'title': 'Equi7grid main continental zone',\n",
       "  'options': ['NA', 'AN', 'OC', 'AS', 'EU', 'SA', 'AF']},\n",
       " 't6': {'title': 'Equi7grid 600km tile', 'options': []},\n",
       " 'orbit': {'title': 'Orbit Number, must be a positive integer', 'options': []},\n",
       " 'sort': {'title': 'SRU sort keys, see OpenSearch Extension for EO for details',\n",
       "  'options': ['publicationDate', 'start,time']},\n",
       " 'set': {'title': 'element set to return for each hit, default is full',\n",
       "  'options': ['full', 'brief']}}"
      ]
     },
     "execution_count": 29,
     "metadata": {},
     "output_type": "execute_result"
    }
   ],
   "source": [
    "selected_collection.search_options"
   ]
  },
  {
   "cell_type": "code",
   "execution_count": 30,
   "metadata": {},
   "outputs": [
    {
     "data": {
      "text/plain": [
       "<class 'eumdac.product.Product'>(EO:EUM:DAT:METOP:SOMO25, ASCA_SMO_02_M01_20230301181800Z_20230301195656Z_N_O_20230301191512Z)"
      ]
     },
     "execution_count": 30,
     "metadata": {},
     "output_type": "execute_result"
    }
   ],
   "source": [
    "latest = selected_collection.search().first()\n",
    "latest"
   ]
  },
  {
   "cell_type": "code",
   "execution_count": 31,
   "metadata": {},
   "outputs": [],
   "source": [
    "import datetime\n",
    "\n",
    "# Set sensing start and end time\n",
    "start = datetime.datetime(2021, 11, 10, 8, 0)\n",
    "end = datetime.datetime(2021, 11, 10, 9, 0)\n",
    "\n",
    "# Retrieve datasets that match our filter\n",
    "products = selected_collection.search(\n",
    "    dtstart=start, \n",
    "    dtend=end)"
   ]
  },
  {
   "cell_type": "code",
   "execution_count": 32,
   "metadata": {},
   "outputs": [
    {
     "name": "stdout",
     "output_type": "stream",
     "text": [
      "Found Datasets: 4 datasets for the given time range\n"
     ]
    }
   ],
   "source": [
    "print(f'Found Datasets: {len(products)} datasets for the given time range')"
   ]
  },
  {
   "cell_type": "code",
   "execution_count": 33,
   "metadata": {},
   "outputs": [
    {
     "data": {
      "text/html": [
       "<b>ASCA_SMO_02_M03_20211110081500Z_20211110095656Z_N_O_20211110095634Z</b>"
      ],
      "text/plain": [
       "<IPython.core.display.HTML object>"
      ]
     },
     "metadata": {},
     "output_type": "display_data"
    },
    {
     "data": {
      "text/html": [
       "<b>Orbit type:</b> LEO"
      ],
      "text/plain": [
       "<IPython.core.display.HTML object>"
      ]
     },
     "metadata": {},
     "output_type": "display_data"
    },
    {
     "data": {
      "text/html": [
       "<b>Instrument:</b> ASCAT"
      ],
      "text/plain": [
       "<IPython.core.display.HTML object>"
      ]
     },
     "metadata": {},
     "output_type": "display_data"
    },
    {
     "data": {
      "text/html": [
       "<b>Satellite:</b> Metop-C"
      ],
      "text/plain": [
       "<IPython.core.display.HTML object>"
      ]
     },
     "metadata": {},
     "output_type": "display_data"
    },
    {
     "data": {
      "text/html": [
       "<b>Sensing start:</b> 2021-11-10 08:15:00"
      ],
      "text/plain": [
       "<IPython.core.display.HTML object>"
      ]
     },
     "metadata": {},
     "output_type": "display_data"
    },
    {
     "data": {
      "text/html": [
       "<b>Sensing end:</b> 2021-11-10 09:56:56"
      ],
      "text/plain": [
       "<IPython.core.display.HTML object>"
      ]
     },
     "metadata": {},
     "output_type": "display_data"
    },
    {
     "data": {
      "text/html": [
       "<b>Size:</b> 9577"
      ],
      "text/plain": [
       "<IPython.core.display.HTML object>"
      ]
     },
     "metadata": {},
     "output_type": "display_data"
    },
    {
     "data": {
      "text/html": [
       "<b>Files:</b>"
      ],
      "text/plain": [
       "<IPython.core.display.HTML object>"
      ]
     },
     "metadata": {},
     "output_type": "display_data"
    },
    {
     "data": {
      "text/plain": [
       "'ASCA_SMO_02_M03_20211110081500Z_20211110095656Z_N_O_20211110095634Z.nat'"
      ]
     },
     "metadata": {},
     "output_type": "display_data"
    },
    {
     "data": {
      "text/plain": [
       "'manifest.xml'"
      ]
     },
     "metadata": {},
     "output_type": "display_data"
    },
    {
     "data": {
      "text/plain": [
       "'EOPMetadata.xml'"
      ]
     },
     "metadata": {},
     "output_type": "display_data"
    },
    {
     "name": "stdout",
     "output_type": "stream",
     "text": [
      "----------------------------------------\n"
     ]
    },
    {
     "data": {
      "text/html": [
       "<b>ASCA_SMO_02_M02_20211110074800Z_20211110092656Z_N_O_20211110092757Z</b>"
      ],
      "text/plain": [
       "<IPython.core.display.HTML object>"
      ]
     },
     "metadata": {},
     "output_type": "display_data"
    },
    {
     "data": {
      "text/html": [
       "<b>Orbit type:</b> LEO"
      ],
      "text/plain": [
       "<IPython.core.display.HTML object>"
      ]
     },
     "metadata": {},
     "output_type": "display_data"
    },
    {
     "data": {
      "text/html": [
       "<b>Instrument:</b> ASCAT"
      ],
      "text/plain": [
       "<IPython.core.display.HTML object>"
      ]
     },
     "metadata": {},
     "output_type": "display_data"
    },
    {
     "data": {
      "text/html": [
       "<b>Satellite:</b> Metop-A"
      ],
      "text/plain": [
       "<IPython.core.display.HTML object>"
      ]
     },
     "metadata": {},
     "output_type": "display_data"
    },
    {
     "data": {
      "text/html": [
       "<b>Sensing start:</b> 2021-11-10 07:48:00"
      ],
      "text/plain": [
       "<IPython.core.display.HTML object>"
      ]
     },
     "metadata": {},
     "output_type": "display_data"
    },
    {
     "data": {
      "text/html": [
       "<b>Sensing end:</b> 2021-11-10 09:26:56"
      ],
      "text/plain": [
       "<IPython.core.display.HTML object>"
      ]
     },
     "metadata": {},
     "output_type": "display_data"
    },
    {
     "data": {
      "text/html": [
       "<b>Size:</b> 9295"
      ],
      "text/plain": [
       "<IPython.core.display.HTML object>"
      ]
     },
     "metadata": {},
     "output_type": "display_data"
    },
    {
     "data": {
      "text/html": [
       "<b>Files:</b>"
      ],
      "text/plain": [
       "<IPython.core.display.HTML object>"
      ]
     },
     "metadata": {},
     "output_type": "display_data"
    },
    {
     "data": {
      "text/plain": [
       "'manifest.xml'"
      ]
     },
     "metadata": {},
     "output_type": "display_data"
    },
    {
     "data": {
      "text/plain": [
       "'EOPMetadata.xml'"
      ]
     },
     "metadata": {},
     "output_type": "display_data"
    },
    {
     "data": {
      "text/plain": [
       "'ASCA_SMO_02_M02_20211110074800Z_20211110092656Z_N_O_20211110092757Z.nat'"
      ]
     },
     "metadata": {},
     "output_type": "display_data"
    },
    {
     "name": "stdout",
     "output_type": "stream",
     "text": [
      "----------------------------------------\n"
     ]
    },
    {
     "data": {
      "text/html": [
       "<b>ASCA_SMO_02_M01_20211110072400Z_20211110090556Z_N_O_20211110081253Z</b>"
      ],
      "text/plain": [
       "<IPython.core.display.HTML object>"
      ]
     },
     "metadata": {},
     "output_type": "display_data"
    },
    {
     "data": {
      "text/html": [
       "<b>Orbit type:</b> LEO"
      ],
      "text/plain": [
       "<IPython.core.display.HTML object>"
      ]
     },
     "metadata": {},
     "output_type": "display_data"
    },
    {
     "data": {
      "text/html": [
       "<b>Instrument:</b> ASCAT"
      ],
      "text/plain": [
       "<IPython.core.display.HTML object>"
      ]
     },
     "metadata": {},
     "output_type": "display_data"
    },
    {
     "data": {
      "text/html": [
       "<b>Satellite:</b> Metop-B"
      ],
      "text/plain": [
       "<IPython.core.display.HTML object>"
      ]
     },
     "metadata": {},
     "output_type": "display_data"
    },
    {
     "data": {
      "text/html": [
       "<b>Sensing start:</b> 2021-11-10 07:24:00"
      ],
      "text/plain": [
       "<IPython.core.display.HTML object>"
      ]
     },
     "metadata": {},
     "output_type": "display_data"
    },
    {
     "data": {
      "text/html": [
       "<b>Sensing end:</b> 2021-11-10 09:05:56"
      ],
      "text/plain": [
       "<IPython.core.display.HTML object>"
      ]
     },
     "metadata": {},
     "output_type": "display_data"
    },
    {
     "data": {
      "text/html": [
       "<b>Size:</b> 9577"
      ],
      "text/plain": [
       "<IPython.core.display.HTML object>"
      ]
     },
     "metadata": {},
     "output_type": "display_data"
    },
    {
     "data": {
      "text/html": [
       "<b>Files:</b>"
      ],
      "text/plain": [
       "<IPython.core.display.HTML object>"
      ]
     },
     "metadata": {},
     "output_type": "display_data"
    },
    {
     "data": {
      "text/plain": [
       "'EOPMetadata.xml'"
      ]
     },
     "metadata": {},
     "output_type": "display_data"
    },
    {
     "data": {
      "text/plain": [
       "'manifest.xml'"
      ]
     },
     "metadata": {},
     "output_type": "display_data"
    },
    {
     "data": {
      "text/plain": [
       "'ASCA_SMO_02_M01_20211110072400Z_20211110090556Z_N_O_20211110081253Z.nat'"
      ]
     },
     "metadata": {},
     "output_type": "display_data"
    },
    {
     "name": "stdout",
     "output_type": "stream",
     "text": [
      "----------------------------------------\n"
     ]
    },
    {
     "data": {
      "text/html": [
       "<b>ASCA_SMO_02_M03_20211110063600Z_20211110081456Z_N_O_20211110081701Z</b>"
      ],
      "text/plain": [
       "<IPython.core.display.HTML object>"
      ]
     },
     "metadata": {},
     "output_type": "display_data"
    },
    {
     "data": {
      "text/html": [
       "<b>Orbit type:</b> LEO"
      ],
      "text/plain": [
       "<IPython.core.display.HTML object>"
      ]
     },
     "metadata": {},
     "output_type": "display_data"
    },
    {
     "data": {
      "text/html": [
       "<b>Instrument:</b> ASCAT"
      ],
      "text/plain": [
       "<IPython.core.display.HTML object>"
      ]
     },
     "metadata": {},
     "output_type": "display_data"
    },
    {
     "data": {
      "text/html": [
       "<b>Satellite:</b> Metop-C"
      ],
      "text/plain": [
       "<IPython.core.display.HTML object>"
      ]
     },
     "metadata": {},
     "output_type": "display_data"
    },
    {
     "data": {
      "text/html": [
       "<b>Sensing start:</b> 2021-11-10 06:36:00"
      ],
      "text/plain": [
       "<IPython.core.display.HTML object>"
      ]
     },
     "metadata": {},
     "output_type": "display_data"
    },
    {
     "data": {
      "text/html": [
       "<b>Sensing end:</b> 2021-11-10 08:14:56"
      ],
      "text/plain": [
       "<IPython.core.display.HTML object>"
      ]
     },
     "metadata": {},
     "output_type": "display_data"
    },
    {
     "data": {
      "text/html": [
       "<b>Size:</b> 9295"
      ],
      "text/plain": [
       "<IPython.core.display.HTML object>"
      ]
     },
     "metadata": {},
     "output_type": "display_data"
    },
    {
     "data": {
      "text/html": [
       "<b>Files:</b>"
      ],
      "text/plain": [
       "<IPython.core.display.HTML object>"
      ]
     },
     "metadata": {},
     "output_type": "display_data"
    },
    {
     "data": {
      "text/plain": [
       "'manifest.xml'"
      ]
     },
     "metadata": {},
     "output_type": "display_data"
    },
    {
     "data": {
      "text/plain": [
       "'EOPMetadata.xml'"
      ]
     },
     "metadata": {},
     "output_type": "display_data"
    },
    {
     "data": {
      "text/plain": [
       "'ASCA_SMO_02_M03_20211110063600Z_20211110081456Z_N_O_20211110081701Z.nat'"
      ]
     },
     "metadata": {},
     "output_type": "display_data"
    },
    {
     "name": "stdout",
     "output_type": "stream",
     "text": [
      "----------------------------------------\n"
     ]
    }
   ],
   "source": [
    "for product in products:\n",
    "    display(HTML('<b>'+str(product)+'</b>'))\n",
    "    display(HTML('<b>Orbit type:</b> '+str(product.metadata['properties']['acquisitionInformation'][0]['platform']['orbitType'])))\n",
    "    display(HTML('<b>Instrument:</b> '+product.instrument))\n",
    "    display(HTML('<b>Satellite:</b> '+product.satellite))\n",
    "    display(HTML('<b>Sensing start:</b> '+str(product.sensing_start)))\n",
    "    display(HTML('<b>Sensing end:</b> '+str(product.sensing_end)))\n",
    "    display(HTML('<b>Size:</b> '+str(product.size)))\n",
    "    display(HTML('<b>Files:</b>'))\n",
    "    for entry in product.entries:\n",
    "        display(entry)\n",
    "    print(\"----------------------------------------\")"
   ]
  },
  {
   "cell_type": "code",
   "execution_count": 34,
   "metadata": {},
   "outputs": [
    {
     "name": "stdout",
     "output_type": "stream",
     "text": [
      "Download of product ASCA_SMO_02_M03_20211110081500Z_20211110095656Z_N_O_20211110095634Z finished.\n",
      "Download of product ASCA_SMO_02_M02_20211110074800Z_20211110092656Z_N_O_20211110092757Z finished.\n",
      "Download of product ASCA_SMO_02_M01_20211110072400Z_20211110090556Z_N_O_20211110081253Z finished.\n",
      "Download of product ASCA_SMO_02_M03_20211110063600Z_20211110081456Z_N_O_20211110081701Z finished.\n",
      "All downloads are finished.\n"
     ]
    }
   ],
   "source": [
    "import shutil\n",
    "\n",
    "for product in products:\n",
    "    with product.open() as fsrc, \\\n",
    "            open(fsrc.name, mode='wb') as fdst:\n",
    "        shutil.copyfileobj(fsrc, fdst)\n",
    "        print(f'Download of product {product} finished.')\n",
    "print('All downloads are finished.')"
   ]
  },
  {
   "cell_type": "code",
   "execution_count": 35,
   "metadata": {},
   "outputs": [],
   "source": [
    "datastore = eumdac.DataStore(token)\n",
    "selected_collection = datastore.get_collection('EO:EUM:DAT:METOP:SOMO25')\n",
    "latest = selected_collection.search().first()"
   ]
  },
  {
   "cell_type": "code",
   "execution_count": 36,
   "metadata": {},
   "outputs": [],
   "source": [
    "datatailor = eumdac.DataTailor(token)"
   ]
  },
  {
   "cell_type": "code",
   "execution_count": 37,
   "metadata": {},
   "outputs": [],
   "source": [
    "# Defining the chain configuration\n",
    "chain = eumdac.tailor_models.Chain(\n",
    "    product='SOMO25',\n",
    "    format='bufr'\n",
    ")"
   ]
  },
  {
   "cell_type": "code",
   "execution_count": 38,
   "metadata": {},
   "outputs": [
    {
     "ename": "DataTailorError",
     "evalue": "Could not add customizations",
     "output_type": "error",
     "traceback": [
      "\u001b[0;31m---------------------------------------------------------------------------\u001b[0m",
      "\u001b[0;31mHTTPError\u001b[0m                                 Traceback (most recent call last)",
      "\u001b[0;32m~/opt/anaconda3/envs/eumdac/lib/python3.9/site-packages/eumdac/errors.py\u001b[0m in \u001b[0;36meumdac_raise_for_status\u001b[0;34m(msg, response, exc_cls)\u001b[0m\n\u001b[1;32m     15\u001b[0m     \u001b[0;32mtry\u001b[0m\u001b[0;34m:\u001b[0m\u001b[0;34m\u001b[0m\u001b[0;34m\u001b[0m\u001b[0m\n\u001b[0;32m---> 16\u001b[0;31m         \u001b[0mresponse\u001b[0m\u001b[0;34m.\u001b[0m\u001b[0mraise_for_status\u001b[0m\u001b[0;34m(\u001b[0m\u001b[0;34m)\u001b[0m\u001b[0;34m\u001b[0m\u001b[0;34m\u001b[0m\u001b[0m\n\u001b[0m\u001b[1;32m     17\u001b[0m     \u001b[0;32mexcept\u001b[0m \u001b[0mrequests\u001b[0m\u001b[0;34m.\u001b[0m\u001b[0mHTTPError\u001b[0m \u001b[0;32mas\u001b[0m \u001b[0mexc\u001b[0m\u001b[0;34m:\u001b[0m\u001b[0;34m\u001b[0m\u001b[0;34m\u001b[0m\u001b[0m\n",
      "\u001b[0;32m~/opt/anaconda3/envs/eumdac/lib/python3.9/site-packages/requests/models.py\u001b[0m in \u001b[0;36mraise_for_status\u001b[0;34m(self)\u001b[0m\n\u001b[1;32m   1020\u001b[0m         \u001b[0;32mif\u001b[0m \u001b[0mhttp_error_msg\u001b[0m\u001b[0;34m:\u001b[0m\u001b[0;34m\u001b[0m\u001b[0;34m\u001b[0m\u001b[0m\n\u001b[0;32m-> 1021\u001b[0;31m             \u001b[0;32mraise\u001b[0m \u001b[0mHTTPError\u001b[0m\u001b[0;34m(\u001b[0m\u001b[0mhttp_error_msg\u001b[0m\u001b[0;34m,\u001b[0m \u001b[0mresponse\u001b[0m\u001b[0;34m=\u001b[0m\u001b[0mself\u001b[0m\u001b[0;34m)\u001b[0m\u001b[0;34m\u001b[0m\u001b[0;34m\u001b[0m\u001b[0m\n\u001b[0m\u001b[1;32m   1022\u001b[0m \u001b[0;34m\u001b[0m\u001b[0m\n",
      "\u001b[0;31mHTTPError\u001b[0m: 400 Client Error: Bad Request for url: https://api.eumetsat.int/epcs/customisations?product_paths=https%3A%2F%2Fapi.eumetsat.int%2Fdata%2Fdownload%2F1.0.0%2Fcollections%2FEO%253AEUM%253ADAT%253AMETOP%253ASOMO25%2Fproducts%2FASCA_SMO_02_M01_20230301181800Z_20230301195656Z_N_O_20230301191512Z&access_token=18b5e599-f1f2-3a19-ab31-2e86204a00d7&chain_config=%7B%22product%22%3A+%22SOMO25%22%2C+%22format%22%3A+%22bufr%22%7D",
      "\nThe above exception was the direct cause of the following exception:\n",
      "\u001b[0;31mDataTailorError\u001b[0m                           Traceback (most recent call last)",
      "\u001b[0;32m/var/folders/p3/6g36x17x60d12xdgb49ryq4r0000gr/T/ipykernel_47198/1360045595.py\u001b[0m in \u001b[0;36m<module>\u001b[0;34m\u001b[0m\n\u001b[1;32m      1\u001b[0m \u001b[0;31m# Send the customisation to Data Tailor Web Services\u001b[0m\u001b[0;34m\u001b[0m\u001b[0;34m\u001b[0m\u001b[0m\n\u001b[0;32m----> 2\u001b[0;31m \u001b[0mcustomisation\u001b[0m \u001b[0;34m=\u001b[0m \u001b[0mdatatailor\u001b[0m\u001b[0;34m.\u001b[0m\u001b[0mnew_customisation\u001b[0m\u001b[0;34m(\u001b[0m\u001b[0mlatest\u001b[0m\u001b[0;34m,\u001b[0m \u001b[0mchain\u001b[0m\u001b[0;34m)\u001b[0m\u001b[0;34m\u001b[0m\u001b[0;34m\u001b[0m\u001b[0m\n\u001b[0m\u001b[1;32m      3\u001b[0m \u001b[0mprint\u001b[0m\u001b[0;34m(\u001b[0m\u001b[0;34mf\"Customisation {customisation._id} started.\"\u001b[0m\u001b[0;34m)\u001b[0m\u001b[0;34m\u001b[0m\u001b[0;34m\u001b[0m\u001b[0m\n",
      "\u001b[0;32m~/opt/anaconda3/envs/eumdac/lib/python3.9/site-packages/eumdac/datatailor.py\u001b[0m in \u001b[0;36mnew_customisation\u001b[0;34m(self, product, chain)\u001b[0m\n\u001b[1;32m     99\u001b[0m \u001b[0;34m\u001b[0m\u001b[0m\n\u001b[1;32m    100\u001b[0m     \u001b[0;32mdef\u001b[0m \u001b[0mnew_customisation\u001b[0m\u001b[0;34m(\u001b[0m\u001b[0mself\u001b[0m\u001b[0;34m,\u001b[0m \u001b[0mproduct\u001b[0m\u001b[0;34m:\u001b[0m \u001b[0mProduct\u001b[0m\u001b[0;34m,\u001b[0m \u001b[0mchain\u001b[0m\u001b[0;34m:\u001b[0m \u001b[0mChain\u001b[0m\u001b[0;34m)\u001b[0m \u001b[0;34m->\u001b[0m \u001b[0mCustomisation\u001b[0m\u001b[0;34m:\u001b[0m\u001b[0;34m\u001b[0m\u001b[0;34m\u001b[0m\u001b[0m\n\u001b[0;32m--> 101\u001b[0;31m         \u001b[0;34m(\u001b[0m\u001b[0mcustomisation\u001b[0m\u001b[0;34m,\u001b[0m\u001b[0;34m)\u001b[0m \u001b[0;34m=\u001b[0m \u001b[0mself\u001b[0m\u001b[0;34m.\u001b[0m\u001b[0mnew_customisations\u001b[0m\u001b[0;34m(\u001b[0m\u001b[0;34m[\u001b[0m\u001b[0mproduct\u001b[0m\u001b[0;34m]\u001b[0m\u001b[0;34m,\u001b[0m \u001b[0mchain\u001b[0m\u001b[0;34m)\u001b[0m\u001b[0;34m\u001b[0m\u001b[0;34m\u001b[0m\u001b[0m\n\u001b[0m\u001b[1;32m    102\u001b[0m         \u001b[0;32mreturn\u001b[0m \u001b[0mcustomisation\u001b[0m\u001b[0;34m\u001b[0m\u001b[0;34m\u001b[0m\u001b[0m\n\u001b[1;32m    103\u001b[0m \u001b[0;34m\u001b[0m\u001b[0m\n",
      "\u001b[0;32m~/opt/anaconda3/envs/eumdac/lib/python3.9/site-packages/eumdac/datatailor.py\u001b[0m in \u001b[0;36mnew_customisations\u001b[0;34m(self, products, chain)\u001b[0m\n\u001b[1;32m    127\u001b[0m             \u001b[0mheaders\u001b[0m\u001b[0;34m=\u001b[0m\u001b[0meumdac\u001b[0m\u001b[0;34m.\u001b[0m\u001b[0mcommon\u001b[0m\u001b[0;34m.\u001b[0m\u001b[0mheaders\u001b[0m\u001b[0;34m,\u001b[0m\u001b[0;34m\u001b[0m\u001b[0;34m\u001b[0m\u001b[0m\n\u001b[1;32m    128\u001b[0m         )\n\u001b[0;32m--> 129\u001b[0;31m         \u001b[0meumdac_raise_for_status\u001b[0m\u001b[0;34m(\u001b[0m\u001b[0;34m\"Could not add customizations\"\u001b[0m\u001b[0;34m,\u001b[0m \u001b[0mresponse\u001b[0m\u001b[0;34m,\u001b[0m \u001b[0mDataTailorError\u001b[0m\u001b[0;34m)\u001b[0m\u001b[0;34m\u001b[0m\u001b[0;34m\u001b[0m\u001b[0m\n\u001b[0m\u001b[1;32m    130\u001b[0m \u001b[0;34m\u001b[0m\u001b[0m\n\u001b[1;32m    131\u001b[0m         \u001b[0mcustomisation_ids\u001b[0m \u001b[0;34m=\u001b[0m \u001b[0mresponse\u001b[0m\u001b[0;34m.\u001b[0m\u001b[0mjson\u001b[0m\u001b[0;34m(\u001b[0m\u001b[0;34m)\u001b[0m\u001b[0;34m[\u001b[0m\u001b[0;34m\"data\"\u001b[0m\u001b[0;34m]\u001b[0m\u001b[0;34m\u001b[0m\u001b[0;34m\u001b[0m\u001b[0m\n",
      "\u001b[0;32m~/opt/anaconda3/envs/eumdac/lib/python3.9/site-packages/eumdac/errors.py\u001b[0m in \u001b[0;36meumdac_raise_for_status\u001b[0;34m(msg, response, exc_cls)\u001b[0m\n\u001b[1;32m     25\u001b[0m             \u001b[0mmsg\u001b[0m \u001b[0;34m=\u001b[0m \u001b[0mmsg\u001b[0m \u001b[0;34m+\u001b[0m \u001b[0;34m\" (due to a server-side error)\"\u001b[0m\u001b[0;34m\u001b[0m\u001b[0;34m\u001b[0m\u001b[0m\n\u001b[1;32m     26\u001b[0m         \u001b[0mexception\u001b[0m \u001b[0;34m=\u001b[0m \u001b[0mexc_cls\u001b[0m\u001b[0;34m(\u001b[0m\u001b[0mmsg\u001b[0m\u001b[0;34m,\u001b[0m \u001b[0mextra_info\u001b[0m\u001b[0;34m)\u001b[0m\u001b[0;34m\u001b[0m\u001b[0;34m\u001b[0m\u001b[0m\n\u001b[0;32m---> 27\u001b[0;31m         \u001b[0;32mraise\u001b[0m \u001b[0mexception\u001b[0m \u001b[0;32mfrom\u001b[0m \u001b[0mexc\u001b[0m\u001b[0;34m\u001b[0m\u001b[0;34m\u001b[0m\u001b[0m\n\u001b[0m\u001b[1;32m     28\u001b[0m \u001b[0;34m\u001b[0m\u001b[0m\n\u001b[1;32m     29\u001b[0m \u001b[0;34m\u001b[0m\u001b[0m\n",
      "\u001b[0;31mDataTailorError\u001b[0m: Could not add customizations"
     ]
    }
   ],
   "source": [
    "# Send the customisation to Data Tailor Web Services\n",
    "customisation = datatailor.new_customisation(latest, chain)\n",
    "print(f\"Customisation {customisation._id} started.\")"
   ]
  }
 ],
 "metadata": {
  "kernelspec": {
   "display_name": "eumdac",
   "language": "python",
   "name": "python3"
  },
  "language_info": {
   "codemirror_mode": {
    "name": "ipython",
    "version": 3
   },
   "file_extension": ".py",
   "mimetype": "text/x-python",
   "name": "python",
   "nbconvert_exporter": "python",
   "pygments_lexer": "ipython3",
   "version": "3.9.13 (main, Aug 25 2022, 18:29:29) \n[Clang 12.0.0 ]"
  },
  "orig_nbformat": 4,
  "vscode": {
   "interpreter": {
    "hash": "9d71cb9422c12036d41f1591071d7d31872dbed0e57fae2561792e6202242d44"
   }
  }
 },
 "nbformat": 4,
 "nbformat_minor": 2
}
