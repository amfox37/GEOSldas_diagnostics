{
 "cells": [
  {
   "cell_type": "markdown",
   "metadata": {},
   "source": [
    "# Comparing Catchement Land Surface Model Restart Files\n",
    "\n",
    "This Jupyter notebook contains a Python script that compares two sets of restart files for a hydrological model. The script loads the restart files from two different directories, and then compares the variables in the files to determine if they are equal.\n",
    "\n",
    "The script uses the `xarray` library, which is commonly used for working with multi-dimensional arrays and datasets. It first imports the `xarray` library using the `import` statement:\n",
    "\n",
    "```python\n",
    "import xarray as xr "
   ]
  },
  {
   "cell_type": "code",
   "execution_count": null,
   "metadata": {},
   "outputs": [],
   "source": [
    "# Define directory paths and filenames\n",
    "\n",
    "# Paths to directories containing the restart files\n",
    "path1 = '/discover/nobackup/amfox/Experiments/OLv7_M36_ascat/OLv7_M36_ascat/output/SMAP_EASEv2_M36_GLOBAL/rs/ens0001/Y2015/M06'\n",
    "path2 = '/discover/nobackup/amfox/Experiments/OLv7_M36/OLv7_M36/output/SMAP_EASEv2_M36_GLOBAL/rs/ens0001/Y2015/M06'\n",
    "\n",
    "# Name of the restart files\n",
    "file1 = 'OLv7_M36_ascat.catch_internal_rst.20150501_0000'\n",
    "file2 = 'OLv7_M36.catch_internal_rst.20150501_0000'"
   ]
  },
  {
   "cell_type": "code",
   "execution_count": null,
   "metadata": {},
   "outputs": [],
   "source": [
    "# Import libraries and define functions\n",
    "\n",
    "import xarray as xr\n",
    "\n",
    "def compare_restart_files(path1, path2, file1, file2):\n",
    "    # Load the restart files\n",
    "    ds1 = xr.open_dataset(path1+'/'+file1)\n",
    "    ds2 = xr.open_dataset(path2+'/'+file2)\n",
    "\n",
    "    # Determine the number and name of the variables in the files\n",
    "    print('ds1: ', ds1.data_vars)\n",
    "    print('ds2: ', ds2.data_vars)\n",
    "\n",
    "    # Determine the number and name of the dimensions in the files\n",
    "    print('ds1: ', ds1.dims)\n",
    "    print('ds2: ', ds2.dims)\n",
    "\n",
    "    # Determine the number of variables in the files\n",
    "    print('ds1: ', len(ds1.data_vars))\n",
    "    print('ds2: ', len(ds2.data_vars))\n",
    "\n",
    "    # Loop over all the variables in the files, and compare them, printing their names and whether they are equal\n",
    "    for var in ds1.data_vars:\n",
    "        print(var, ds1[var].equals(ds2[var]))\n",
    "\n",
    "    # Loop over all the variables in the files, printing their names and the mean difference between them\n",
    "    for var in ds1.data_vars:\n",
    "        print(var, (ds1[var]-ds2[var]).mean())# Cell 3: Call the compare_restart_files function"
   ]
  },
  {
   "cell_type": "code",
   "execution_count": null,
   "metadata": {},
   "outputs": [],
   "source": [
    "# Call the compare_restart_files function\n",
    "\n",
    "compare_restart_files(path1, path2, file1, file2)"
   ]
  }
 ],
 "metadata": {
  "kernelspec": {
   "display_name": "xr",
   "language": "python",
   "name": "python3"
  },
  "language_info": {
   "name": "python",
   "version": "3.11.3"
  },
  "orig_nbformat": 4
 },
 "nbformat": 4,
 "nbformat_minor": 2
}
