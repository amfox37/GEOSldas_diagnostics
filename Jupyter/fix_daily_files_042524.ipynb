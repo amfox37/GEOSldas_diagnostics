{
 "cells": [
  {
   "cell_type": "code",
   "execution_count": null,
   "metadata": {},
   "outputs": [],
   "source": [
    "import xarray as xr\n",
    "import numpy as np\n",
    "\n",
    "# Load netcdf file\n",
    "file_in = '../test_data/DAv7_M36_ASCAT_type_13_comb_fp.inst3_1d_lndfcstana_Nt.20200318.nc4'\n",
    "\n",
    "# Open the netCDF file\n",
    "dataset = xr.open_dataset(file_in)\n",
    "\n",
    "# Increment the 8 values in the time_stamp variable by 1 day\n",
    "time_stamp = dataset['time_stamp']\n",
    "\n",
    "print(f\"Time_stamp values: {time_stamp.values}\")\n",
    "\n",
    "time_stamp_values = time_stamp.values\n",
    "\n",
    "# Print the time_stamp values\n",
    "print(f\"Time_stamp values before incrementing: {time_stamp_values}\")\n",
    "\n",
    "# Replace the values in the time_stamp variable with the incremented values by changing string from \"0318\" to \"0319\" in each value\n",
    "for i in range(len(time_stamp_values)):\n",
    "    time_stamp_values[i] = time_stamp_values[i].replace(b\"0318\", b\"0321\")\n",
    "\n",
    "# Print the time_stamp values\n",
    "print(f\"Time_stamp values after incrementing: {time_stamp_values}\")\n",
    "\n",
    "# Update the dataset with the new time_stamp values\n",
    "dataset['time_stamp'].values = time_stamp_values\n",
    "\n",
    "# For all variables in the dataset which have dimensions of both time and tile, replace the values with the fill value\n",
    "for var in dataset.variables:\n",
    "    if 'time' in dataset[var].dims and 'tile' in dataset[var].dims:\n",
    "        dataset[var].values = np.full(dataset[var].shape, fill_value=1.e+15)\n",
    "\n",
    "# Save the updated dataset to a new netCDF file\n",
    "file_out = 'DAv7_M36_ASCAT_type_13_comb_fp.inst3_1d_lndfcstana_Nt.20200321.nc4'\n",
    "dataset.to_netcdf(file_out)\n",
    "\n",
    "# Open the new netCDF file\n",
    "dataset_new = xr.open_dataset(file_out)\n",
    "\n",
    "# Print the time_stamp values\n",
    "time_stamp_new = dataset_new['time_stamp']\n",
    "print(f\"Time_stamp values in new file: {time_stamp_new.values}\")\n",
    "\n",
    "# Print the first 100 values of the first variable in the new file\n",
    "first_var_new = dataset_new[list(dataset_new.keys())[10]]\n",
    "print(f\"First 100 values of first variable in new file: {first_var_new.values[:100]}\")"
   ]
  }
 ],
 "metadata": {
  "kernelspec": {
   "display_name": "xr",
   "language": "python",
   "name": "python3"
  },
  "language_info": {
   "name": "python",
   "version": "3.11.3"
  }
 },
 "nbformat": 4,
 "nbformat_minor": 2
}
