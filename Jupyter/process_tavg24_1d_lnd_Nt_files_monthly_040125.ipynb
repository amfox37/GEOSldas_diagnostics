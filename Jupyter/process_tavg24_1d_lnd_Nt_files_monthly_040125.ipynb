{
 "cells": [
  {
   "cell_type": "code",
   "execution_count": 1,
   "metadata": {},
   "outputs": [],
   "source": [
    "import os\n",
    "import glob\n",
    "import xarray as xr\n",
    "import numpy as np\n",
    "from datetime import datetime\n",
    "from dateutil.relativedelta import relativedelta"
   ]
  },
  {
   "cell_type": "code",
   "execution_count": 2,
   "metadata": {},
   "outputs": [],
   "source": [
    "\n",
    "expt_name = 'LS_OLv8_M36'\n",
    "\n",
    "start_date = datetime(2000, 6, 1)\n",
    "end_date = datetime(2007, 6, 1)\n",
    "\n",
    "start_date_str = start_date.strftime('%Y%m%d')\n",
    "end_date_str = end_date.strftime('%Y%m%d')\n",
    "\n",
    "# Define the path directory\n",
    "# root_directory = f'/Users/amfox/Desktop/GEOSldas_diagnostics/test_data/land_sweeper/{expt_name}/output/SMAP_EASEv2_M36_GLOBAL/cat/ens_avg'\n",
    "root_directory = f'/discover/nobackup/projects/land_da/Experiment_archive/M21C_land_sweeper_OLv8_M36/{expt_name}/output/SMAP_EASEv2_M36_GLOBAL/cat/ens_avg'"
   ]
  },
  {
   "cell_type": "code",
   "execution_count": 3,
   "metadata": {},
   "outputs": [
    {
     "name": "stdout",
     "output_type": "stream",
     "text": [
      "CPU times: user 4min 25s, sys: 1min 22s, total: 5min 48s\n",
      "Wall time: 32min 36s\n"
     ]
    }
   ],
   "source": [
    "%%time\n",
    "\n",
    "current_date = start_date\n",
    "while current_date <= end_date:\n",
    "    year_month_directory = os.path.join(root_directory, \n",
    "                                        f\"Y{current_date.year}\", \n",
    "                                        f\"M{current_date.month:02d}\")\n",
    "\n",
    "    # Find the files\n",
    "    files = glob.glob(f\"{year_month_directory}/*tavg24_1d_lnd_Nt*.nc4\")\n",
    "\n",
    "    # Load the data\n",
    "    data = xr.open_mfdataset(files, combine='nested', concat_dim=\"time\")\n",
    "\n",
    "    # Define the variables to be extracted\n",
    "    variables = {\n",
    "    'sm_surface': 'SFMC',\n",
    "    'sm_rootzone': 'RZMC',\n",
    "    'sm_profile': 'PRMC',\n",
    "    'precipitation_total_surface_flux': 'PRECTOTCORRLAND',\n",
    "    'vegetation_greenness_fraction': 'GRN',\n",
    "    'leaf_area_index': 'LAI',\n",
    "    'snow_mass': 'SNOMASLAND',\n",
    "    'surface_temperature_of_land_incl_snow': 'TSURFLAND',\n",
    "    'soil_temperature_layer_1': 'TSOIL1',\n",
    "    'snowfall_land': 'PRECSNOCORRLAND',\n",
    "    'snow_depth_within_snow_covered_area_fraction_on_land': 'SNODPLAND',\n",
    "    'snowpack_evaporation_latent_heat_flux_on_land': 'LHLANDSBLN',\n",
    "    'overland_runoff_including_throughflow': 'RUNSURFLAND',\n",
    "    'baseflow_flux_land': 'BASEFLOWLAND',\n",
    "    'snowmelt_flux_land': 'SMLAND',\n",
    "    'total_evaporation_land': 'EVLAND',\n",
    "    'net_shortwave_flux_land': 'SWLAND',\n",
    "    'total_water_storage_land': 'TWLAND',\n",
    "    'fractional_area_of_snow_on_land': 'FRLANDSNO'  # New variable added\n",
    "    }\n",
    "\n",
    "    # Extract the variables and calculate the mean along the time dimension\n",
    "    data_extracted = data[list(variables.values())].mean(dim='time')\n",
    "\n",
    "    # Add a time dimension to the extracted data\n",
    "    data_extracted = data_extracted.expand_dims(time=[current_date])\n",
    "\n",
    "    # Save the data\n",
    "    output_directory = root_directory\n",
    "    os.makedirs(output_directory, exist_ok=True)\n",
    "    output_filename = os.path.join(output_directory, f\"{expt_name}.tavg24_1d_lnd_Nt.subsetted.{current_date.strftime('%Y%m')}.nc\")\n",
    "    data_extracted.to_netcdf(output_filename)\n",
    "\n",
    "    # Increment the date\n",
    "    current_date += relativedelta(months=1)"
   ]
  },
  {
   "cell_type": "code",
   "execution_count": null,
   "metadata": {},
   "outputs": [],
   "source": []
  }
 ],
 "metadata": {
  "kernelspec": {
   "display_name": "Python [conda env:.conda-diag]",
   "language": "python",
   "name": "conda-env-.conda-diag-py"
  },
  "language_info": {
   "codemirror_mode": {
    "name": "ipython",
    "version": 3
   },
   "file_extension": ".py",
   "mimetype": "text/x-python",
   "name": "python",
   "nbconvert_exporter": "python",
   "pygments_lexer": "ipython3",
   "version": "3.10.15"
  }
 },
 "nbformat": 4,
 "nbformat_minor": 4
}
