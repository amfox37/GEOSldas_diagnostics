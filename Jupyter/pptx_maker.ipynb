{
 "cells": [
  {
   "cell_type": "code",
   "execution_count": 3,
   "metadata": {},
   "outputs": [
    {
     "name": "stdout",
     "output_type": "stream",
     "text": [
      "['increment_time_series_INSITU_id_03013302_JJA_2015.png', 'increment_time_series_INSITU_id_03013302_JJA_2020.png', 'increment_time_series_INSITU_id_04013302_JJA_2015.png', 'increment_time_series_INSITU_id_04013302_JJA_2020.png', 'increment_time_series_INSITU_id_07013301_JJA_2015.png', 'increment_time_series_INSITU_id_07013301_JJA_2020.png', 'increment_time_series_INSITU_id_09013301_JJA_2015.png', 'increment_time_series_INSITU_id_09013301_JJA_2020.png', 'increment_time_series_INSITU_id_12033301_JJA_2015.png', 'increment_time_series_INSITU_id_12033301_JJA_2020.png', 'increment_time_series_INSITU_id_16013302_JJA_2015.png', 'increment_time_series_INSITU_id_16013302_JJA_2020.png', 'increment_time_series_INSITU_id_16023302_JJA_2015.png', 'increment_time_series_INSITU_id_16023302_JJA_2020.png', 'increment_time_series_INSITU_id_16033302_JJA_2015.png', 'increment_time_series_INSITU_id_16033302_JJA_2020.png', 'increment_time_series_INSITU_id_16043302_JJA_2015.png', 'increment_time_series_INSITU_id_16043302_JJA_2020.png', 'increment_time_series_INSITU_id_16063302_JJA_2015.png', 'increment_time_series_INSITU_id_16063302_JJA_2020.png', 'increment_time_series_INSITU_id_16073302_JJA_2015.png', 'increment_time_series_INSITU_id_16073302_JJA_2020.png', 'increment_time_series_INSITU_id_19023301_JJA_2015.png', 'increment_time_series_INSITU_id_19023301_JJA_2020.png', 'increment_time_series_INSITU_id_25013301_JJA_2015.png', 'increment_time_series_INSITU_id_25013301_JJA_2020.png', 'increment_time_series_INSITU_id_27013301_JJA_2015.png', 'increment_time_series_INSITU_id_27013301_JJA_2020.png', 'increment_time_series_INSITU_id_45013301_JJA_2015.png', 'increment_time_series_INSITU_id_45013301_JJA_2020.png', 'increment_time_series_INSITU_id_45023301_JJA_2015.png', 'increment_time_series_INSITU_id_45023301_JJA_2020.png', 'increment_time_series_INSITU_id_48013301_JJA_2015.png', 'increment_time_series_INSITU_id_48013301_JJA_2020.png', 'increment_time_series_INSITU_id_67013301_JJA_2015.png', 'increment_time_series_INSITU_id_67013301_JJA_2020.png']\n"
     ]
    }
   ],
   "source": [
    "import os\n",
    "from pptx import Presentation\n",
    "from pptx.util import Inches\n",
    "\n",
    "# Directory containing the .png files\n",
    "directory = \"/Users/amfox/Desktop/GEOSldas_diagnostics/Jupyter\"\n",
    "\n",
    "# expt_name = 'v7_M36_USCRN_SM_3h_c1234smv_6yr'\n",
    "# expt_name = 'test_v7_M36_CalVal_M36'\n",
    "expt_name = 'increment_time_series_INSITU_id'\n",
    "\n",
    "# Get a sorted list of image files in the directory\n",
    "image_files = sorted([filename for filename in os.listdir(directory) if filename.endswith(\".png\") and filename.startswith(expt_name)])\n",
    "\n",
    "print(image_files)\n",
    "\n",
    "# Create a new PowerPoint presentation\n",
    "presentation = Presentation()\n",
    "\n",
    "presentation.slide_width = Inches(10)\n",
    "presentation.slide_height = Inches(5.625)\n",
    "\n",
    "# Iterate over the sorted image files\n",
    "for filename in image_files:\n",
    "    # Create a new slide\n",
    "    slide_layout = presentation.slide_layouts[6]  # Choose a slide layout (e.g., Blank)\n",
    "    slide = presentation.slides.add_slide(slide_layout)\n",
    "\n",
    "    # Load the image file\n",
    "    image_path = os.path.join(directory, filename)\n",
    "\n",
    "    # Get the slide's dimensions\n",
    "    slide_width = presentation.slide_width\n",
    "    slide_height = presentation.slide_height\n",
    "\n",
    "    # Calculate the aspect ratio of the slide\n",
    "    slide_ratio = slide_width / slide_height\n",
    "\n",
    "    # Load the image and get its dimensions\n",
    "    image = slide.shapes.add_picture(image_path, Inches(0), Inches(0))\n",
    "    image_width = image.width\n",
    "    image_height = image.height\n",
    "\n",
    "    # Calculate the aspect ratio of the image\n",
    "    image_ratio = image_width / image_height\n",
    "\n",
    "    # Calculate the scaling factor\n",
    "    if slide_ratio > image_ratio:\n",
    "        scale = slide_height / image_height\n",
    "    else:\n",
    "        scale = slide_width / image_width\n",
    "\n",
    "    # Calculate the new dimensions of the image\n",
    "    new_width = int(scale * image_width)\n",
    "    new_height = int(scale * image_height)\n",
    "\n",
    "    # Calculate the new position of the image to center it\n",
    "    left = int((slide_width - new_width) / 2)\n",
    "    top = int((slide_height - new_height) / 2)\n",
    "\n",
    "    # Set the new position and size of the image\n",
    "    image.left = left\n",
    "    image.top = top\n",
    "    image.width = new_width\n",
    "    image.height = new_height\n",
    "\n",
    "# Save the PowerPoint presentation\n",
    "presentation.save(\"/Users/amfox/Desktop/GEOSldas_diagnostics/Jupyter/\" + expt_name + \"_presentation.pptx\")"
   ]
  }
 ],
 "metadata": {
  "kernelspec": {
   "display_name": "Python 3 (ipykernel)",
   "language": "python",
   "name": "python3"
  },
  "language_info": {
   "codemirror_mode": {
    "name": "ipython",
    "version": 3
   },
   "file_extension": ".py",
   "mimetype": "text/x-python",
   "name": "python",
   "nbconvert_exporter": "python",
   "pygments_lexer": "ipython3",
   "version": "3.11.3"
  }
 },
 "nbformat": 4,
 "nbformat_minor": 4
}
