{
 "cells": [
  {
   "cell_type": "code",
   "execution_count": 4,
   "metadata": {},
   "outputs": [],
   "source": [
    "import os\n",
    "import glob\n",
    "import xarray as xr\n",
    "import numpy as np\n",
    "from datetime import datetime\n",
    "from dateutil.relativedelta import relativedelta"
   ]
  },
  {
   "cell_type": "code",
   "execution_count": 5,
   "metadata": {},
   "outputs": [],
   "source": [
    "\n",
    "expt_name = 'LS_DAv8_M36'\n",
    "\n",
    "start_date = datetime(2020, 1, 1)\n",
    "end_date = datetime(2020, 1, 6)\n",
    "\n",
    "start_date_str = start_date.strftime('%Y%m%d')\n",
    "end_date_str = end_date.strftime('%Y%m%d')\n",
    "\n",
    "# Define the path directory\n",
    "root_directory = f'/Users/amfox/Desktop/GEOSldas_diagnostics/test_data/land_sweeper/{expt_name}/output/SMAP_EASEv2_M36_GLOBAL/cat/ens_avg'\n"
   ]
  },
  {
   "cell_type": "code",
   "execution_count": 7,
   "metadata": {},
   "outputs": [],
   "source": [
    "current_date = start_date\n",
    "while current_date <= end_date:\n",
    "    year_month_directory = os.path.join(root_directory, \n",
    "                                        f\"Y{current_date.year}\", \n",
    "                                        f\"M{current_date.month:02d}\")\n",
    "\n",
    "    # Find the files\n",
    "    files = glob.glob(f\"{year_month_directory}/*catch_progn_incr*.nc4\")\n",
    "\n",
    "    # Load the data\n",
    "    data = xr.open_mfdataset(files, combine='nested', concat_dim=\"time\")\n",
    "\n",
    "    wesnn1_incr = data['WESNN1_INCR']\n",
    "    wesnn2_incr = data['WESNN2_INCR']\n",
    "    wesnn3_incr = data['WESNN3_INCR']\n",
    "\n",
    "    snow_incr = wesnn1_incr + wesnn2_incr + wesnn3_incr\n",
    "    # Ensure snow_incr is properly defined\n",
    "    if not isinstance(snow_incr, xr.DataArray):\n",
    "        raise ValueError(\"snow_incr is not a valid xarray.DataArray\")\n",
    "\n",
    "    # Find snow increments that are larger than abs(0.001)\n",
    "    snow_incr = snow_incr.where(np.abs(snow_incr) > 0.001)\n",
    "\n",
    "    # Count and find the mean of the snow increments, ignoring NaNs\n",
    "    snow_incr_count = snow_incr.count(dim='time')\n",
    "    snow_incr_mean = snow_incr.mean(dim='time', skipna=True)  \n",
    "\n",
    "    # .expand_dims(time=[current_date])\n",
    "    snow_incr_count = snow_incr_count.expand_dims(time=[current_date])\n",
    "    snow_incr_mean = snow_incr_mean.expand_dims(time=[current_date])\n",
    "\n",
    "    if not isinstance(snow_incr_count, xr.DataArray):\n",
    "        raise ValueError(\"snow_incr is not a valid xarray.DataArray\")\n",
    "\n",
    "  # Combine variables into a single dataset\n",
    "    output_data = xr.Dataset({\n",
    "        'snow_incr_count': snow_incr_count,\n",
    "        'snow_incr_mean': snow_incr_mean\n",
    "    })\n",
    "\n",
    "    # Save the data to a single file\n",
    "    output_filename = f\"{root_directory}/snow_incrs_{current_date.strftime('%Y%m')}.compressed.nc4\"\n",
    "    encoding = {var: {'zlib': True, 'complevel': 5} for var in output_data.data_vars}\n",
    "    output_data.to_netcdf(output_filename, encoding=encoding)\n",
    "\n",
    "    # Increment the date\n",
    "    current_date += relativedelta(months=1)\n"
   ]
  }
 ],
 "metadata": {
  "kernelspec": {
   "display_name": "xr",
   "language": "python",
   "name": "python3"
  },
  "language_info": {
   "name": "python",
   "version": "3.11.10"
  }
 },
 "nbformat": 4,
 "nbformat_minor": 2
}
