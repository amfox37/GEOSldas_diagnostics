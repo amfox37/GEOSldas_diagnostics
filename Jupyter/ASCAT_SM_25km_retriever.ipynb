{
 "cells": [
  {
   "cell_type": "code",
   "execution_count": 11,
   "metadata": {},
   "outputs": [],
   "source": [
    " # Import the library EUMDAC\n",
    "import eumdac\n",
    "import datetime\n",
    "import shutil"
   ]
  },
  {
   "cell_type": "code",
   "execution_count": 12,
   "metadata": {},
   "outputs": [
    {
     "name": "stdout",
     "output_type": "stream",
     "text": [
      "This token '18b5e599-f1f2-3a19-ab31-2e86204a00d7' expires 2023-03-01 15:55:23.216694\n"
     ]
    }
   ],
   "source": [
    " # Insert your personal key and secret into the single quotes\n",
    "\n",
    "consumer_key = 'SCGBjjQHmcqF7Jx9IrqxyjTZ25Ua'\n",
    "consumer_secret = 'BmwtVKKbs__y_vdLKKcopenzTBca'\n",
    "\n",
    "credentials = (consumer_key, consumer_secret)\n",
    "\n",
    "token = eumdac.AccessToken(credentials)\n",
    "\n",
    "print(f\"This token '{token}' expires {token.expiration}\")"
   ]
  },
  {
   "cell_type": "code",
   "execution_count": 13,
   "metadata": {},
   "outputs": [],
   "source": [
    "# Retrieve all collection objects from DataStore\n",
    "datastore = eumdac.DataStore(token)\n",
    "\n",
    " # Select our collection\n",
    "selected_collection = datastore.get_collection('EO:EUM:DAT:METOP:SOMO25')"
   ]
  },
  {
   "cell_type": "code",
   "execution_count": 16,
   "metadata": {},
   "outputs": [
    {
     "name": "stdout",
     "output_type": "stream",
     "text": [
      "Found Datasets: 3 datasets for the given time range\n",
      "ASCA_SMO_02_M02_20211110074800Z_20211110092656Z_N_O_20211110092757Z\n",
      "ASCA_SMO_02_M01_20211110072400Z_20211110090556Z_N_O_20211110081253Z\n",
      "ASCA_SMO_02_M03_20211110063600Z_20211110081456Z_N_O_20211110081701Z\n"
     ]
    }
   ],
   "source": [
    "# Set sensing start and end time\n",
    "start = datetime.datetime(2021, 11, 10, 8, 0)\n",
    "end = datetime.datetime(2021, 11, 10, 8, 10)\n",
    "\n",
    "# Retrieve datasets that match our filter\n",
    "products = selected_collection.search(\n",
    "    dtstart=start, \n",
    "    dtend=end)\n",
    "\n",
    "print(f'Found Datasets: {len(products)} datasets for the given time range')\n",
    "\n",
    "for product in products:\n",
    "    print(str(product))    "
   ]
  },
  {
   "cell_type": "code",
   "execution_count": 15,
   "metadata": {},
   "outputs": [
    {
     "name": "stdout",
     "output_type": "stream",
     "text": [
      "Download of product ASCA_SMO_02_M02_20211110074800Z_20211110092656Z_N_O_20211110092757Z finished.\n",
      "Download of product ASCA_SMO_02_M01_20211110072400Z_20211110090556Z_N_O_20211110081253Z finished.\n",
      "Download of product ASCA_SMO_02_M03_20211110063600Z_20211110081456Z_N_O_20211110081701Z finished.\n",
      "All downloads are finished.\n"
     ]
    }
   ],
   "source": [
    "for product in products:\n",
    "    with product.open() as fsrc, \\\n",
    "            open(fsrc.name, mode='wb') as fdst:\n",
    "        shutil.copyfileobj(fsrc, fdst)\n",
    "        print(f'Download of product {product} finished.')\n",
    "print('All downloads are finished.')"
   ]
  },
  {
   "cell_type": "code",
   "execution_count": 17,
   "metadata": {},
   "outputs": [
    {
     "data": {
      "text/plain": [
       "<function dict.get(key, default=None, /)>"
      ]
     },
     "execution_count": 17,
     "metadata": {},
     "output_type": "execute_result"
    }
   ],
   "source": []
  }
 ],
 "metadata": {
  "kernelspec": {
   "display_name": "eumdac",
   "language": "python",
   "name": "python3"
  },
  "language_info": {
   "codemirror_mode": {
    "name": "ipython",
    "version": 3
   },
   "file_extension": ".py",
   "mimetype": "text/x-python",
   "name": "python",
   "nbconvert_exporter": "python",
   "pygments_lexer": "ipython3",
   "version": "3.9.13"
  },
  "orig_nbformat": 4,
  "vscode": {
   "interpreter": {
    "hash": "9d71cb9422c12036d41f1591071d7d31872dbed0e57fae2561792e6202242d44"
   }
  }
 },
 "nbformat": 4,
 "nbformat_minor": 2
}
