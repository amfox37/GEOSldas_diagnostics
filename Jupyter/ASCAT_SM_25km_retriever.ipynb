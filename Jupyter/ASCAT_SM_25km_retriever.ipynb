{
 "cells": [
  {
   "cell_type": "code",
   "execution_count": 2,
   "metadata": {},
   "outputs": [],
   "source": [
    " # Import the library EUMDAC\n",
    "import eumdac\n",
    "import datetime\n",
    "import shutil"
   ]
  },
  {
   "cell_type": "code",
   "execution_count": 3,
   "metadata": {},
   "outputs": [
    {
     "name": "stdout",
     "output_type": "stream",
     "text": [
      "This token 'da58a723-3122-37bd-bcd9-b2f3b8bf71da' expires 2023-03-01 17:04:43.344714\n"
     ]
    }
   ],
   "source": [
    " # Insert your personal key and secret into the single quotes\n",
    "\n",
    "consumer_key = 'SCGBjjQHmcqF7Jx9IrqxyjTZ25Ua'\n",
    "consumer_secret = 'BmwtVKKbs__y_vdLKKcopenzTBca'\n",
    "\n",
    "credentials = (consumer_key, consumer_secret)\n",
    "\n",
    "token = eumdac.AccessToken(credentials)\n",
    "\n",
    "print(f\"This token '{token}' expires {token.expiration}\")"
   ]
  },
  {
   "cell_type": "code",
   "execution_count": 4,
   "metadata": {},
   "outputs": [],
   "source": [
    "# Retrieve all collection objects from DataStore\n",
    "datastore = eumdac.DataStore(token)\n",
    "\n",
    " # Select our collection\n",
    "selected_collection = datastore.get_collection('EO:EUM:DAT:METOP:SOMO25')"
   ]
  },
  {
   "cell_type": "code",
   "execution_count": 5,
   "metadata": {},
   "outputs": [
    {
     "name": "stdout",
     "output_type": "stream",
     "text": [
      "Found Datasets: 3 datasets for the given time range\n",
      "ASCA_SMO_02_M02_20211110074800Z_20211110092656Z_N_O_20211110092757Z\n",
      "ASCA_SMO_02_M01_20211110072400Z_20211110090556Z_N_O_20211110081253Z\n",
      "ASCA_SMO_02_M03_20211110063600Z_20211110081456Z_N_O_20211110081701Z\n"
     ]
    }
   ],
   "source": [
    "# Set sensing start and end time\n",
    "start = datetime.datetime(2021, 11, 10, 8, 0)\n",
    "end = datetime.datetime(2021, 11, 10, 8, 10)\n",
    "\n",
    "# Retrieve datasets that match our filter\n",
    "products = selected_collection.search(\n",
    "    dtstart=start, \n",
    "    dtend=end)\n",
    "\n",
    "print(f'Found Datasets: {len(products)} datasets for the given time range')\n",
    "\n",
    "for product in products:\n",
    "    print(str(product))    "
   ]
  },
  {
   "cell_type": "code",
   "execution_count": 6,
   "metadata": {},
   "outputs": [
    {
     "name": "stdout",
     "output_type": "stream",
     "text": [
      "Download of product ASCA_SMO_02_M02_20211110074800Z_20211110092656Z_N_O_20211110092757Z finished.\n",
      "Download of product ASCA_SMO_02_M01_20211110072400Z_20211110090556Z_N_O_20211110081253Z finished.\n",
      "Download of product ASCA_SMO_02_M03_20211110063600Z_20211110081456Z_N_O_20211110081701Z finished.\n",
      "All downloads are finished.\n"
     ]
    }
   ],
   "source": [
    "for product in products:\n",
    "    with product.open() as fsrc, \\\n",
    "            open(fsrc.name, mode='wb') as fdst:\n",
    "        shutil.copyfileobj(fsrc, fdst)\n",
    "        print(f'Download of product {product} finished.')\n",
    "print('All downloads are finished.')"
   ]
  },
  {
   "cell_type": "code",
   "execution_count": 8,
   "metadata": {},
   "outputs": [],
   "source": [
    "latest = selected_collection.search().first()"
   ]
  },
  {
   "cell_type": "code",
   "execution_count": 9,
   "metadata": {},
   "outputs": [
    {
     "data": {
      "text/plain": [
       "'https://api.eumetsat.int/data/download/1.0.0/collections/EO%3AEUM%3ADAT%3AMETOP%3ASOMO25/products/ASCA_SMO_02_M01_20230301195700Z_20230301213856Z_N_O_20230301205516Z?access_token=da58a723-3122-37bd-bcd9-b2f3b8bf71da'"
      ]
     },
     "execution_count": 9,
     "metadata": {},
     "output_type": "execute_result"
    }
   ],
   "source": [
    "latest.url"
   ]
  },
  {
   "cell_type": "code",
   "execution_count": 10,
   "metadata": {},
   "outputs": [],
   "source": [
    "datatailor = eumdac.DataTailor(token)\n",
    "\n",
    "# Defining the chain configuration\n",
    "chain = eumdac.tailor_models.Chain(\n",
    "    product='ASCSMO02',\n",
    "    format='bufr'\n",
    ")"
   ]
  },
  {
   "cell_type": "code",
   "execution_count": 11,
   "metadata": {},
   "outputs": [
    {
     "ename": "DataTailorError",
     "evalue": "Could not add customizations",
     "output_type": "error",
     "traceback": [
      "\u001b[0;31m---------------------------------------------------------------------------\u001b[0m",
      "\u001b[0;31mHTTPError\u001b[0m                                 Traceback (most recent call last)",
      "\u001b[0;32m~/opt/anaconda3/envs/eumdac/lib/python3.9/site-packages/eumdac/errors.py\u001b[0m in \u001b[0;36meumdac_raise_for_status\u001b[0;34m(msg, response, exc_cls)\u001b[0m\n\u001b[1;32m     15\u001b[0m     \u001b[0;32mtry\u001b[0m\u001b[0;34m:\u001b[0m\u001b[0;34m\u001b[0m\u001b[0;34m\u001b[0m\u001b[0m\n\u001b[0;32m---> 16\u001b[0;31m         \u001b[0mresponse\u001b[0m\u001b[0;34m.\u001b[0m\u001b[0mraise_for_status\u001b[0m\u001b[0;34m(\u001b[0m\u001b[0;34m)\u001b[0m\u001b[0;34m\u001b[0m\u001b[0;34m\u001b[0m\u001b[0m\n\u001b[0m\u001b[1;32m     17\u001b[0m     \u001b[0;32mexcept\u001b[0m \u001b[0mrequests\u001b[0m\u001b[0;34m.\u001b[0m\u001b[0mHTTPError\u001b[0m \u001b[0;32mas\u001b[0m \u001b[0mexc\u001b[0m\u001b[0;34m:\u001b[0m\u001b[0;34m\u001b[0m\u001b[0;34m\u001b[0m\u001b[0m\n",
      "\u001b[0;32m~/opt/anaconda3/envs/eumdac/lib/python3.9/site-packages/requests/models.py\u001b[0m in \u001b[0;36mraise_for_status\u001b[0;34m(self)\u001b[0m\n\u001b[1;32m   1020\u001b[0m         \u001b[0;32mif\u001b[0m \u001b[0mhttp_error_msg\u001b[0m\u001b[0;34m:\u001b[0m\u001b[0;34m\u001b[0m\u001b[0;34m\u001b[0m\u001b[0m\n\u001b[0;32m-> 1021\u001b[0;31m             \u001b[0;32mraise\u001b[0m \u001b[0mHTTPError\u001b[0m\u001b[0;34m(\u001b[0m\u001b[0mhttp_error_msg\u001b[0m\u001b[0;34m,\u001b[0m \u001b[0mresponse\u001b[0m\u001b[0;34m=\u001b[0m\u001b[0mself\u001b[0m\u001b[0;34m)\u001b[0m\u001b[0;34m\u001b[0m\u001b[0;34m\u001b[0m\u001b[0m\n\u001b[0m\u001b[1;32m   1022\u001b[0m \u001b[0;34m\u001b[0m\u001b[0m\n",
      "\u001b[0;31mHTTPError\u001b[0m: 400 Client Error: Bad Request for url: https://api.eumetsat.int/epcs/customisations?product_paths=https%3A%2F%2Fapi.eumetsat.int%2Fdata%2Fdownload%2F1.0.0%2Fcollections%2FEO%253AEUM%253ADAT%253AMETOP%253ASOMO25%2Fproducts%2FASCA_SMO_02_M01_20230301195700Z_20230301213856Z_N_O_20230301205516Z&access_token=da58a723-3122-37bd-bcd9-b2f3b8bf71da&chain_config=%7B%22product%22%3A+%22ASCSMO02%22%2C+%22format%22%3A+%22bufr%22%7D",
      "\nThe above exception was the direct cause of the following exception:\n",
      "\u001b[0;31mDataTailorError\u001b[0m                           Traceback (most recent call last)",
      "\u001b[0;32m/var/folders/p3/6g36x17x60d12xdgb49ryq4r0000gr/T/ipykernel_50313/1538572653.py\u001b[0m in \u001b[0;36m<module>\u001b[0;34m\u001b[0m\n\u001b[1;32m      1\u001b[0m \u001b[0;31m# Send the customisation to Data Tailor Web Services\u001b[0m\u001b[0;34m\u001b[0m\u001b[0;34m\u001b[0m\u001b[0m\n\u001b[0;32m----> 2\u001b[0;31m \u001b[0mcustomisation\u001b[0m \u001b[0;34m=\u001b[0m \u001b[0mdatatailor\u001b[0m\u001b[0;34m.\u001b[0m\u001b[0mnew_customisation\u001b[0m\u001b[0;34m(\u001b[0m\u001b[0mlatest\u001b[0m\u001b[0;34m,\u001b[0m \u001b[0mchain\u001b[0m\u001b[0;34m)\u001b[0m\u001b[0;34m\u001b[0m\u001b[0;34m\u001b[0m\u001b[0m\n\u001b[0m\u001b[1;32m      3\u001b[0m \u001b[0mprint\u001b[0m\u001b[0;34m(\u001b[0m\u001b[0;34mf\"Customisation {customisation._id} started.\"\u001b[0m\u001b[0;34m)\u001b[0m\u001b[0;34m\u001b[0m\u001b[0;34m\u001b[0m\u001b[0m\n",
      "\u001b[0;32m~/opt/anaconda3/envs/eumdac/lib/python3.9/site-packages/eumdac/datatailor.py\u001b[0m in \u001b[0;36mnew_customisation\u001b[0;34m(self, product, chain)\u001b[0m\n\u001b[1;32m     99\u001b[0m \u001b[0;34m\u001b[0m\u001b[0m\n\u001b[1;32m    100\u001b[0m     \u001b[0;32mdef\u001b[0m \u001b[0mnew_customisation\u001b[0m\u001b[0;34m(\u001b[0m\u001b[0mself\u001b[0m\u001b[0;34m,\u001b[0m \u001b[0mproduct\u001b[0m\u001b[0;34m:\u001b[0m \u001b[0mProduct\u001b[0m\u001b[0;34m,\u001b[0m \u001b[0mchain\u001b[0m\u001b[0;34m:\u001b[0m \u001b[0mChain\u001b[0m\u001b[0;34m)\u001b[0m \u001b[0;34m->\u001b[0m \u001b[0mCustomisation\u001b[0m\u001b[0;34m:\u001b[0m\u001b[0;34m\u001b[0m\u001b[0;34m\u001b[0m\u001b[0m\n\u001b[0;32m--> 101\u001b[0;31m         \u001b[0;34m(\u001b[0m\u001b[0mcustomisation\u001b[0m\u001b[0;34m,\u001b[0m\u001b[0;34m)\u001b[0m \u001b[0;34m=\u001b[0m \u001b[0mself\u001b[0m\u001b[0;34m.\u001b[0m\u001b[0mnew_customisations\u001b[0m\u001b[0;34m(\u001b[0m\u001b[0;34m[\u001b[0m\u001b[0mproduct\u001b[0m\u001b[0;34m]\u001b[0m\u001b[0;34m,\u001b[0m \u001b[0mchain\u001b[0m\u001b[0;34m)\u001b[0m\u001b[0;34m\u001b[0m\u001b[0;34m\u001b[0m\u001b[0m\n\u001b[0m\u001b[1;32m    102\u001b[0m         \u001b[0;32mreturn\u001b[0m \u001b[0mcustomisation\u001b[0m\u001b[0;34m\u001b[0m\u001b[0;34m\u001b[0m\u001b[0m\n\u001b[1;32m    103\u001b[0m \u001b[0;34m\u001b[0m\u001b[0m\n",
      "\u001b[0;32m~/opt/anaconda3/envs/eumdac/lib/python3.9/site-packages/eumdac/datatailor.py\u001b[0m in \u001b[0;36mnew_customisations\u001b[0;34m(self, products, chain)\u001b[0m\n\u001b[1;32m    127\u001b[0m             \u001b[0mheaders\u001b[0m\u001b[0;34m=\u001b[0m\u001b[0meumdac\u001b[0m\u001b[0;34m.\u001b[0m\u001b[0mcommon\u001b[0m\u001b[0;34m.\u001b[0m\u001b[0mheaders\u001b[0m\u001b[0;34m,\u001b[0m\u001b[0;34m\u001b[0m\u001b[0;34m\u001b[0m\u001b[0m\n\u001b[1;32m    128\u001b[0m         )\n\u001b[0;32m--> 129\u001b[0;31m         \u001b[0meumdac_raise_for_status\u001b[0m\u001b[0;34m(\u001b[0m\u001b[0;34m\"Could not add customizations\"\u001b[0m\u001b[0;34m,\u001b[0m \u001b[0mresponse\u001b[0m\u001b[0;34m,\u001b[0m \u001b[0mDataTailorError\u001b[0m\u001b[0;34m)\u001b[0m\u001b[0;34m\u001b[0m\u001b[0;34m\u001b[0m\u001b[0m\n\u001b[0m\u001b[1;32m    130\u001b[0m \u001b[0;34m\u001b[0m\u001b[0m\n\u001b[1;32m    131\u001b[0m         \u001b[0mcustomisation_ids\u001b[0m \u001b[0;34m=\u001b[0m \u001b[0mresponse\u001b[0m\u001b[0;34m.\u001b[0m\u001b[0mjson\u001b[0m\u001b[0;34m(\u001b[0m\u001b[0;34m)\u001b[0m\u001b[0;34m[\u001b[0m\u001b[0;34m\"data\"\u001b[0m\u001b[0;34m]\u001b[0m\u001b[0;34m\u001b[0m\u001b[0;34m\u001b[0m\u001b[0m\n",
      "\u001b[0;32m~/opt/anaconda3/envs/eumdac/lib/python3.9/site-packages/eumdac/errors.py\u001b[0m in \u001b[0;36meumdac_raise_for_status\u001b[0;34m(msg, response, exc_cls)\u001b[0m\n\u001b[1;32m     25\u001b[0m             \u001b[0mmsg\u001b[0m \u001b[0;34m=\u001b[0m \u001b[0mmsg\u001b[0m \u001b[0;34m+\u001b[0m \u001b[0;34m\" (due to a server-side error)\"\u001b[0m\u001b[0;34m\u001b[0m\u001b[0;34m\u001b[0m\u001b[0m\n\u001b[1;32m     26\u001b[0m         \u001b[0mexception\u001b[0m \u001b[0;34m=\u001b[0m \u001b[0mexc_cls\u001b[0m\u001b[0;34m(\u001b[0m\u001b[0mmsg\u001b[0m\u001b[0;34m,\u001b[0m \u001b[0mextra_info\u001b[0m\u001b[0;34m)\u001b[0m\u001b[0;34m\u001b[0m\u001b[0;34m\u001b[0m\u001b[0m\n\u001b[0;32m---> 27\u001b[0;31m         \u001b[0;32mraise\u001b[0m \u001b[0mexception\u001b[0m \u001b[0;32mfrom\u001b[0m \u001b[0mexc\u001b[0m\u001b[0;34m\u001b[0m\u001b[0;34m\u001b[0m\u001b[0m\n\u001b[0m\u001b[1;32m     28\u001b[0m \u001b[0;34m\u001b[0m\u001b[0m\n\u001b[1;32m     29\u001b[0m \u001b[0;34m\u001b[0m\u001b[0m\n",
      "\u001b[0;31mDataTailorError\u001b[0m: Could not add customizations"
     ]
    }
   ],
   "source": [
    " # Send the customisation to Data Tailor Web Services\n",
    "customisation = datatailor.new_customisation(latest, chain)\n",
    "print(f\"Customisation {customisation._id} started.\")"
   ]
  }
 ],
 "metadata": {
  "kernelspec": {
   "display_name": "eumdac",
   "language": "python",
   "name": "python3"
  },
  "language_info": {
   "codemirror_mode": {
    "name": "ipython",
    "version": 3
   },
   "file_extension": ".py",
   "mimetype": "text/x-python",
   "name": "python",
   "nbconvert_exporter": "python",
   "pygments_lexer": "ipython3",
   "version": "3.9.13 (main, Aug 25 2022, 18:29:29) \n[Clang 12.0.0 ]"
  },
  "orig_nbformat": 4,
  "vscode": {
   "interpreter": {
    "hash": "9d71cb9422c12036d41f1591071d7d31872dbed0e57fae2561792e6202242d44"
   }
  }
 },
 "nbformat": 4,
 "nbformat_minor": 2
}
