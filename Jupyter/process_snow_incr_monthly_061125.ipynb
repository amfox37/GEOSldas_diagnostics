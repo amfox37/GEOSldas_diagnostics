{
 "cells": [
  {
   "cell_type": "code",
   "execution_count": 1,
   "metadata": {},
   "outputs": [],
   "source": [
    "import os\n",
    "import glob\n",
    "import xarray as xr\n",
    "import numpy as np\n",
    "from datetime import datetime\n",
    "from dateutil.relativedelta import relativedelta"
   ]
  },
  {
   "cell_type": "code",
   "execution_count": 2,
   "metadata": {},
   "outputs": [],
   "source": [
    "\n",
    "expt_name = '1e_LS_DAv8_M36_qc6'\n",
    "\n",
    "start_date = datetime(2002, 10, 1)\n",
    "end_date = datetime(2003, 10, 1)\n",
    "\n",
    "start_date_str = start_date.strftime('%Y%m%d')\n",
    "end_date_str = end_date.strftime('%Y%m%d')\n",
    "\n",
    "# Define the path directory\n",
    "# root_directory = f'/Users/amfox/Desktop/GEOSldas_diagnostics/test_data/land_sweeper/{expt_name}/output/SMAP_EASEv2_M36_GLOBAL/cat/ens_avg'\n",
    "root_directory = f'/discover/nobackup/projects/land_da/snow_qc_expts/1e_LS_DAv8_M36_0/{expt_name}/output/SMAP_EASEv2_M36_GLOBAL/cat/ens0000'"
   ]
  },
  {
   "cell_type": "code",
   "execution_count": 3,
   "metadata": {},
   "outputs": [
    {
     "name": "stdout",
     "output_type": "stream",
     "text": [
      "CPU times: user 17.2 s, sys: 1.73 s, total: 18.9 s\n",
      "Wall time: 2min 20s\n"
     ]
    }
   ],
   "source": [
    "%%time\n",
    "\n",
    "current_date = start_date\n",
    "while current_date <= end_date:\n",
    "    year_month_directory = os.path.join(root_directory, \n",
    "                                        f\"Y{current_date.year}\", \n",
    "                                        f\"M{current_date.month:02d}\")\n",
    "\n",
    "    # Find files\n",
    "    files = glob.glob(f\"{year_month_directory}/*catch_progn_incr*.nc4\")\n",
    "\n",
    "    # Load data\n",
    "    data = xr.open_mfdataset(files, combine='nested', concat_dim=\"time\")\n",
    "\n",
    "    # Compute total increment at each time step\n",
    "    total_increment = (\n",
    "        data['WESNN1_INCR'] +\n",
    "        data['WESNN2_INCR'] +\n",
    "        data['WESNN3_INCR']\n",
    "    )  # shape: [time, lat, lon]\n",
    "\n",
    "    # Sum of total increment over the month\n",
    "    total_increment_sum = total_increment.sum(dim='time')\n",
    "    total_increment_sum.name = 'TOTAL_INCREMENT_SUM'\n",
    "\n",
    "    # Count of significant increment events\n",
    "    threshold = 0.001\n",
    "    increment_event_mask = (total_increment < -threshold) | (total_increment > threshold)\n",
    "    increment_event_count = increment_event_mask.sum(dim='time')\n",
    "    increment_event_count.name = 'TOTAL_INCREMENT_EVENT_COUNT'\n",
    "\n",
    "    # Add time dimension\n",
    "    total_increment_sum = total_increment_sum.expand_dims(time=[current_date])\n",
    "    increment_event_count = increment_event_count.expand_dims(time=[current_date])\n",
    "\n",
    "    # Merge and save\n",
    "    combined = xr.merge([total_increment_sum, increment_event_count])\n",
    "\n",
    "    output_directory = root_directory\n",
    "    os.makedirs(output_directory, exist_ok=True)\n",
    "    output_filename = os.path.join(\n",
    "        output_directory, \n",
    "        f\"{expt_name}.monthly_snow_increments.{current_date.strftime('%Y%m')}.nc\"\n",
    "    )\n",
    "    combined.to_netcdf(output_filename)\n",
    "\n",
    "    # Advance to next month\n",
    "    current_date += relativedelta(months=1)"
   ]
  },
  {
   "cell_type": "code",
   "execution_count": null,
   "metadata": {},
   "outputs": [],
   "source": []
  }
 ],
 "metadata": {
  "kernelspec": {
   "display_name": "Python [conda env:.conda-diag]",
   "language": "python",
   "name": "conda-env-.conda-diag-py"
  },
  "language_info": {
   "codemirror_mode": {
    "name": "ipython",
    "version": 3
   },
   "file_extension": ".py",
   "mimetype": "text/x-python",
   "name": "python",
   "nbconvert_exporter": "python",
   "pygments_lexer": "ipython3",
   "version": "3.10.15"
  }
 },
 "nbformat": 4,
 "nbformat_minor": 4
}
