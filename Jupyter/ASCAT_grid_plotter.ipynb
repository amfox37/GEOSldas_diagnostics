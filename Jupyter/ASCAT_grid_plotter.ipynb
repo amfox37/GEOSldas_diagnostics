{
 "cells": [
  {
   "cell_type": "code",
   "execution_count": 2,
   "metadata": {},
   "outputs": [],
   "source": [
    "import numpy as np\n",
    "\n",
    "from mapper_functions import plot_global\n",
    "from mapper_functions import plot_na\n",
    "\n",
    "from my_functions import read_ascat_bufr, read_ascat_bufr_lat_lon"
   ]
  },
  {
   "cell_type": "code",
   "execution_count": null,
   "metadata": {},
   "outputs": [
    {
     "name": "stdout",
     "output_type": "stream",
     "text": [
      "Reading file  M01-ASCA-ASCSMR02-NA-5.0-20230106233900.000000000Z-20230107003532-4843544.bfr ...\n",
      "Reading file  M01-ASCA-ASCSMR02-NA-5.0-20230108060900.000000000Z-20230108072940-4843544.bfr ...\n",
      "Reading file  M01-ASCA-ASCSMR02-NA-5.0-20230101201800.000000000Z-20230101211616-4843544.bfr ...\n",
      "Reading file  M01-ASCA-ASCSMR02-NA-5.0-20230106083300.000000000Z-20230106093007-4843544.bfr ...\n",
      "Reading file  M01-ASCA-ASCSMR02-NA-5.0-20230109123300.000000000Z-20230109133132-4843544.bfr ...\n"
     ]
    }
   ],
   "source": [
    "# path = '/Users/amfox/Desktop/ASCAT_EUMETSAT'\n",
    "# path = '/home/amfox/smap/SMAP_Nature/ASCAT_EUMETSAT/Metop_B/Y2019/M09'\n",
    "# file_name_start = 'M01-ASCA-ASCSMO02-NA-5.0-2019093'\n",
    "path = '/discover/nobackup/amfox/ASCAT_file_mover/Metop-B/Y2023/M01'\n",
    "file_name_start = 'M01-ASCA-ASCSMR02-NA-5.0-2023010'\n",
    "\n",
    "printflag = True\n",
    "\n",
    "lat, lon, ssom = read_ascat_bufr_lat_lon(path, file_name_start, printflag)\n",
    "\n",
    "\n",
    "numobs = len(ssom)\n",
    "obarray = np.empty([numobs, 3])\n",
    "\n",
    "obarray[:, 0] = ssom\n",
    "obarray[:, 1] = lon\n",
    "obarray[:, 2] = lat\n",
    "\n",
    "obarray[np.isnan(obarray)] = 120\n",
    "\n",
    "# Save the array to a CSV file\n",
    "np.savetxt('Metop_B_Y2023_M010_obarray.csv', obarray, delimiter=',')"
   ]
  },
  {
   "cell_type": "code",
   "execution_count": null,
   "metadata": {},
   "outputs": [],
   "source": [
    "\n"
   ]
  },
  {
   "cell_type": "code",
   "execution_count": null,
   "metadata": {},
   "outputs": [],
   "source": []
  },
  {
   "cell_type": "code",
   "execution_count": null,
   "metadata": {},
   "outputs": [],
   "source": [
    "\n",
    "plot_global(obarray)\n",
    "plot_na(obarray)"
   ]
  },
  {
   "cell_type": "code",
   "execution_count": null,
   "metadata": {},
   "outputs": [],
   "source": [
    "# find the unique rows based on values in the second and third columns\n",
    "unique_rows, unique_indices, unique_counts = np.unique(obarray[:, 1:], axis=0, return_index=True, return_counts=True)\n",
    "\n",
    "# count the number of unique rows\n",
    "num_unique_rows = len(unique_rows)\n",
    "\n",
    "# print the number of occurrences of each unique row\n",
    "# for i in range(num_unique_rows):\n",
    "#     print(\"Row\", unique_rows[i], \"occurs\", unique_counts[i], \"times.\")\n",
    "\n",
    "tmp = np.empty([num_unique_rows, 3])\n",
    "tmp[:, 1] = obarray[unique_indices, 1]\n",
    "tmp[:, 2] = obarray[unique_indices, 2]\n",
    "tmp[:, 0] = unique_counts"
   ]
  },
  {
   "cell_type": "code",
   "execution_count": null,
   "metadata": {},
   "outputs": [],
   "source": [
    "num_unique_rows"
   ]
  },
  {
   "cell_type": "code",
   "execution_count": null,
   "metadata": {},
   "outputs": [],
   "source": [
    "# path = '/Users/amfox/Desktop/ASCAT_EUMETSAT'\n",
    "path = '/discover/nobackup/amfox/ASCAT_EUMETSAT/Metop-A/Y2019/M07'\n",
    "file_name_start = 'M02-ASCA-ASCSMO02-NA-5.0-2019071'\n",
    "printflag = True\n",
    "\n",
    "lat1, lon1, ssom1, tpcx1, domo1, smpf1, smcf1, alfr1, iwfr1, snoc1, flsf1 = read_ascat_bufr(path, file_name_start, printflag)"
   ]
  },
  {
   "cell_type": "code",
   "execution_count": null,
   "metadata": {},
   "outputs": [],
   "source": [
    "# path = '/Users/amfox/Desktop/ASCAT_EUMETSAT'\n",
    "path = '/discover/nobackup/amfox/ASCAT_EUMETSAT/Metop-A/Y2019/M07'\n",
    "file_name_start = 'M02-ASCA-ASCSMO02-NA-5.0-2019072'\n",
    "printflag = True\n",
    "\n",
    "lat2, lon2, ssom2, tpcx2, domo2, smpf2, smcf2, alfr2, iwfr2, snoc2, flsf2 = read_ascat_bufr(path, file_name_start, printflag)"
   ]
  },
  {
   "cell_type": "code",
   "execution_count": null,
   "metadata": {},
   "outputs": [],
   "source": [
    "plot_global(tmp)\n",
    "plot_na(tmp)"
   ]
  },
  {
   "cell_type": "code",
   "execution_count": null,
   "metadata": {},
   "outputs": [],
   "source": []
  }
 ],
 "metadata": {
  "kernelspec": {
   "display_name": "Python [conda env:.conda-diag]",
   "language": "python",
   "name": "conda-env-.conda-diag-py"
  },
  "language_info": {
   "codemirror_mode": {
    "name": "ipython",
    "version": 3
   },
   "file_extension": ".py",
   "mimetype": "text/x-python",
   "name": "python",
   "nbconvert_exporter": "python",
   "pygments_lexer": "ipython3",
   "version": "3.10.9"
  },
  "vscode": {
   "interpreter": {
    "hash": "130bdb5d51c1627e03a8f7a29c982db29c3017f04d5bf7548f0371ec6a75a062"
   }
  }
 },
 "nbformat": 4,
 "nbformat_minor": 4
}
