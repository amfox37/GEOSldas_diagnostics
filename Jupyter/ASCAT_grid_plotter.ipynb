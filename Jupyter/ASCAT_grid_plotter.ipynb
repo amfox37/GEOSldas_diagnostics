{
 "cells": [
  {
   "cell_type": "code",
   "execution_count": 1,
   "metadata": {},
   "outputs": [],
   "source": [
    "import numpy as np\n",
    "\n",
    "from mapper_functions import plot_global\n",
    "from mapper_functions import plot_na\n",
    "\n",
    "from my_functions import read_ascat_bufr"
   ]
  },
  {
   "cell_type": "code",
   "execution_count": null,
   "metadata": {},
   "outputs": [
    {
     "name": "stdout",
     "output_type": "stream",
     "text": [
      "Reading file  M02-ASCA-ASCSMO02-NA-5.0-20190705021500.000000000Z-20190705035638-1350206.bfr ...\n",
      "Reading file  M02-ASCA-ASCSMO02-NA-5.0-20190707164200.000000000Z-20190707182133-1350206.bfr ...\n",
      "Reading file  M02-ASCA-ASCSMO02-NA-5.0-20190706084200.000000000Z-20190706102153-1350206.bfr ...\n",
      "Reading file  M02-ASCA-ASCSMO02-NA-5.0-20190701084500.000000000Z-20190701102507-1350206.bfr ...\n",
      "Reading file  M02-ASCA-ASCSMO02-NA-5.0-20190704224800.000000000Z-20190705002952-1350206.bfr ...\n",
      "Reading file  M02-ASCA-ASCSMO02-NA-5.0-20190706120300.000000000Z-20190706134220-1350206.bfr ...\n",
      "Reading file  M02-ASCA-ASCSMO02-NA-5.0-20190707082100.000000000Z-20190707100108-1350206.bfr ...\n",
      "Reading file  M02-ASCA-ASCSMO02-NA-5.0-20190702150600.000000000Z-20190702164508-1350206.bfr ...\n",
      "Reading file  M02-ASCA-ASCSMO02-NA-5.0-20190703144500.000000000Z-20190703162354-1350206.bfr ...\n",
      "Reading file  M02-ASCA-ASCSMO02-NA-5.0-20190703230900.000000000Z-20190704005105-1350206.bfr ...\n",
      "Reading file  M02-ASCA-ASCSMO02-NA-5.0-20190704041800.000000000Z-20190704055938-1350206.bfr ...\n",
      "Reading file  M02-ASCA-ASCSMO02-NA-5.0-20190704142400.000000000Z-20190704160317-1350206.bfr ...\n",
      "Reading file  M02-ASCA-ASCSMO02-NA-5.0-20190708194200.000000000Z-20190708212309-1350206.bfr ...\n",
      "Reading file  M02-ASCA-ASCSMO02-NA-5.0-20190708080000.000000000Z-20190708094025-1350206.bfr ...\n",
      "Reading file  M02-ASCA-ASCSMO02-NA-5.0-20190701120600.000000000Z-20190701134534-1350206.bfr ...\n",
      "Reading file  M02-ASCA-ASCSMO02-NA-5.0-20190705003000.000000000Z-20190705021239-1350206.bfr ...\n",
      "Reading file  M02-ASCA-ASCSMO02-NA-5.0-20190705222700.000000000Z-20190706000838-1350206.bfr ...\n",
      "Reading file  M02-ASCA-ASCSMO02-NA-5.0-20190707045700.000000000Z-20190707063827-1350206.bfr ...\n",
      "Reading file  M02-ASCA-ASCSMO02-NA-5.0-20190708010900.000000000Z-20190708025149-1350206.bfr ...\n",
      "Reading file  M02-ASCA-ASCSMO02-NA-5.0-20190703011200.000000000Z-20190703025509-1350206.bfr ...\n",
      "Reading file  M02-ASCA-ASCSMO02-NA-5.0-20190708061800.000000000Z-20190708075854-1350206.bfr ...\n",
      "Reading file  M02-ASCA-ASCSMO02-NA-5.0-20190701184800.000000000Z-20190701202734-1350206.bfr ...\n",
      "Reading file  M02-ASCA-ASCSMO02-NA-5.0-20190708094200.000000000Z-20190708112046-1350206.bfr ...\n",
      "Reading file  M02-ASCA-ASCSMO02-NA-5.0-20190707013000.000000000Z-20190707031306-1350206.bfr ...\n",
      "Reading file  M02-ASCA-ASCSMO02-NA-5.0-20190704074200.000000000Z-20190704092220-1350206.bfr ...\n",
      "Reading file  M02-ASCA-ASCSMO02-NA-5.0-20190701052100.000000000Z-20190701070242-1350206.bfr ...\n",
      "Reading file  M02-ASCA-ASCSMO02-NA-5.0-20190706015100.000000000Z-20190706033415-1350206.bfr ...\n",
      "Reading file  M02-ASCA-ASCSMO02-NA-5.0-20190708025400.000000000Z-20190708043513-1350206.bfr ...\n",
      "Reading file  M02-ASCA-ASCSMO02-NA-5.0-20190707214500.000000000Z-20190707232618-1350206.bfr ...\n",
      "Reading file  M02-ASCA-ASCSMO02-NA-5.0-20190706184200.000000000Z-20190706202304-1350206.bfr ...\n",
      "Reading file  M02-ASCA-ASCSMO02-NA-5.0-20190707063900.000000000Z-20190707081936-1350206.bfr ...\n",
      "Reading file  M02-ASCA-ASCSMO02-NA-5.0-20190709224500.000000000Z-20190710002631-1350206.bfr ...\n",
      "Reading file  M02-ASCA-ASCSMO02-NA-5.0-20190702164500.000000000Z-20190702182449-1350206.bfr ...\n",
      "Reading file  M02-ASCA-ASCSMO02-NA-5.0-20190703180600.000000000Z-20190703194548-1350206.bfr ...\n",
      "Reading file  M02-ASCA-ASCSMO02-NA-5.0-20190707100000.000000000Z-20190707114043-1350206.bfr ...\n",
      "Reading file  M02-ASCA-ASCSMO02-NA-5.0-20190707232700.000000000Z-20190708010858-1350206.bfr ...\n",
      "Reading file  M02-ASCA-ASCSMO02-NA-5.0-20190706234800.000000000Z-20190707013013-1350206.bfr ...\n",
      "Reading file  M02-ASCA-ASCSMO02-NA-5.0-20190704005100.000000000Z-20190704023356-1350206.bfr ...\n",
      "Reading file  M02-ASCA-ASCSMO02-NA-5.0-20190709210300.000000000Z-20190709224404-1350206.bfr ...\n",
      "Reading file  M02-ASCA-ASCSMO02-NA-5.0-20190702182700.000000000Z-20190702200639-1350206.bfr ...\n",
      "Reading file  M02-ASCA-ASCSMO02-NA-5.0-20190708130000.000000000Z-20190708144013-1350206.bfr ...\n",
      "Reading file  M02-ASCA-ASCSMO02-NA-5.0-20190707150300.000000000Z-20190707164151-1350206.bfr ...\n",
      "Reading file  M02-ASCA-ASCSMO02-NA-5.0-20190703025700.000000000Z-20190703043832-1350206.bfr ...\n",
      "Reading file  M02-ASCA-ASCSMO02-NA-5.0-20190702050000.000000000Z-20190702064139-1350206.bfr ...\n",
      "Reading file  M02-ASCA-ASCSMO02-NA-5.0-20190708043600.000000000Z-20190708061723-1350206.bfr ...\n",
      "Reading file  M02-ASCA-ASCSMO02-NA-5.0-20190702100600.000000000Z-20190702114510-1350206.bfr ...\n",
      "Reading file  M02-ASCA-ASCSMO02-NA-5.0-20190706051800.000000000Z-20190706065927-1350206.bfr ...\n",
      "Reading file  M02-ASCA-ASCSMO02-NA-5.0-20190705204500.000000000Z-20190705222616-1350206.bfr ...\n",
      "Reading file  M02-ASCA-ASCSMO02-NA-5.0-20190709160000.000000000Z-20190709174000-1350206.bfr ...\n",
      "Reading file  M02-ASCA-ASCSMO02-NA-5.0-20190706033600.000000000Z-20190706051727-1350206.bfr ...\n",
      "Reading file  M02-ASCA-ASCSMO02-NA-5.0-20190707200300.000000000Z-20190707214412-1350206.bfr ...\n",
      "Reading file  M02-ASCA-ASCSMO02-NA-5.0-20190705090300.000000000Z-20190705104235-1350206.bfr ...\n",
      "Reading file  M02-ASCA-ASCSMO02-NA-5.0-20190702214800.000000000Z-20190702232937-1350206.bfr ...\n",
      "Reading file  M02-ASCA-ASCSMO02-NA-5.0-20190701001200.000000000Z-20190701015443-1350206.bfr ...\n",
      "Reading file  M02-ASCA-ASCSMO02-NA-5.0-20190705053900.000000000Z-20190705072023-1350206.bfr ...\n",
      "Reading file  M02-ASCA-ASCSMO02-NA-5.0-20190705140300.000000000Z-20190705154240-1350206.bfr ...\n",
      "Reading file  M02-ASCA-ASCSMO02-NA-5.0-20190709092100.000000000Z-20190709110004-1350206.bfr ...\n",
      "Reading file  M02-ASCA-ASCSMO02-NA-5.0-20190707132100.000000000Z-20190707150050-1350206.bfr ...\n",
      "Reading file  M02-ASCA-ASCSMO02-NA-5.0-20190708180000.000000000Z-20190708194116-1350206.bfr ...\n",
      "Reading file  M02-ASCA-ASCSMO02-NA-5.0-20190705172400.000000000Z-20190705190348-1350206.bfr ...\n",
      "Reading file  M02-ASCA-ASCSMO02-NA-5.0-20190706202400.000000000Z-20190706220514-1350206.bfr ...\n",
      "Reading file  M02-ASCA-ASCSMO02-NA-5.0-20190701134500.000000000Z-20190701152443-1350206.bfr ...\n",
      "Reading file  M02-ASCA-ASCSMO02-NA-5.0-20190705035700.000000000Z-20190705053838-1350206.bfr ...\n",
      "Reading file  M02-ASCA-ASCSMO02-NA-5.0-20190706170300.000000000Z-20190706184259-1350206.bfr ...\n",
      "Reading file  M02-ASCA-ASCSMO02-NA-5.0-20190703062100.000000000Z-20190703080204-1350206.bfr ...\n",
      "Reading file  M02-ASCA-ASCSMO02-NA-5.0-20190709073900.000000000Z-20190709091906-1350206.bfr ...\n",
      "Reading file  M02-ASCA-ASCSMO02-NA-5.0-20190703130600.000000000Z-20190703144441-1350206.bfr ...\n",
      "Reading file  M02-ASCA-ASCSMO02-NA-5.0-20190707031500.000000000Z-20190707045621-1350206.bfr ...\n",
      "Reading file  M02-ASCA-ASCSMO02-NA-5.0-20190709142100.000000000Z-20190709160004-1350206.bfr ...\n",
      "Reading file  M02-ASCA-ASCSMO02-NA-5.0-20190706152100.000000000Z-20190706170120-1350206.bfr ...\n",
      "Reading file  M02-ASCA-ASCSMO02-NA-5.0-20190701102700.000000000Z-20190701120550-1350206.bfr ...\n",
      "Reading file  M02-ASCA-ASCSMO02-NA-5.0-20190705122400.000000000Z-20190705140258-1350206.bfr ...\n",
      "Reading file  M02-ASCA-ASCSMO02-NA-5.0-20190704023600.000000000Z-20190704041719-1350206.bfr ...\n",
      "Reading file  M02-ASCA-ASCSMO02-NA-5.0-20190702200600.000000000Z-20190702214728-1350206.bfr ...\n",
      "Reading file  M02-ASCA-ASCSMO02-NA-5.0-20190706070000.000000000Z-20190706084026-1350206.bfr ...\n",
      "Reading file  M02-ASCA-ASCSMO02-NA-5.0-20190702233000.000000000Z-20190703011216-1350206.bfr ...\n",
      "Reading file  M02-ASCA-ASCSMO02-NA-5.0-20190701235100.000000000Z-20190702013333-1350206.bfr ...\n",
      "Reading file  M02-ASCA-ASCSMO02-NA-5.0-20190704174500.000000000Z-20190704192429-1350206.bfr ...\n",
      "Reading file  M02-ASCA-ASCSMO02-NA-5.0-20190701070300.000000000Z-20190701084345-1350206.bfr ...\n",
      "Reading file  M02-ASCA-ASCSMO02-NA-5.0-20190704060000.000000000Z-20190704074117-1350206.bfr ...\n",
      "Reading file  M02-ASCA-ASCSMO02-NA-5.0-20190709004800.000000000Z-20190709023035-1350206.bfr ...\n",
      "Reading file  M02-ASCA-ASCSMO02-NA-5.0-20190709123900.000000000Z-20190709141906-1350206.bfr ...\n",
      "Reading file  M02-ASCA-ASCSMO02-NA-5.0-20190706102100.000000000Z-20190706120124-1350206.bfr ...\n",
      "Reading file  M02-ASCA-ASCSMO02-NA-5.0-20190701170600.000000000Z-20190701184615-1350206.bfr ...\n",
      "Reading file  M02-ASCA-ASCSMO02-NA-5.0-20190703194500.000000000Z-20190703212628-1350206.bfr ...\n",
      "Reading file  M02-ASCA-ASCSMO02-NA-5.0-20190709174200.000000000Z-20190709192116-1350206.bfr ...\n",
      "Reading file  M02-ASCA-ASCSMO02-NA-5.0-20190705154200.000000000Z-20190705172203-1350206.bfr ...\n",
      "Reading file  M02-ASCA-ASCSMO02-NA-5.0-20190706220600.000000000Z-20190706234728-1350206.bfr ...\n",
      "Reading file  M02-ASCA-ASCSMO02-NA-5.0-20190703112400.000000000Z-20190703130348-1350206.bfr ...\n",
      "Reading file  M02-ASCA-ASCSMO02-NA-5.0-20190706000900.000000000Z-20190706015127-1350206.bfr ...\n",
      "Reading file  M02-ASCA-ASCSMO02-NA-5.0-20190704192400.000000000Z-20190704210529-1350206.bfr ...\n",
      "Reading file  M02-ASCA-ASCSMO02-NA-5.0-20190703043900.000000000Z-20190703062041-1350206.bfr ...\n",
      "Reading file  M02-ASCA-ASCSMO02-NA-5.0-20190704160300.000000000Z-20190704174316-1350206.bfr ...\n",
      "Reading file  M02-ASCA-ASCSMO02-NA-5.0-20190706134200.000000000Z-20190706152129-1350206.bfr ...\n",
      "Reading file  M02-ASCA-ASCSMO02-NA-5.0-20190703080300.000000000Z-20190703094338-1350206.bfr ...\n",
      "Reading file  M02-ASCA-ASCSMO02-NA-5.0-20190701033900.000000000Z-20190701052045-1350206.bfr ...\n",
      "Reading file  M02-ASCA-ASCSMO02-NA-5.0-20190702082400.000000000Z-20190702100422-1350206.bfr ...\n",
      "Reading file  M02-ASCA-ASCSMO02-NA-5.0-20190703162400.000000000Z-20190703180401-1350206.bfr ...\n",
      "Reading file  M02-ASCA-ASCSMO02-NA-5.0-20190708144200.000000000Z-20190708162039-1350206.bfr ...\n",
      "Reading file  M02-ASCA-ASCSMO02-NA-5.0-20190708212400.000000000Z-20190708230512-1350206.bfr ...\n"
     ]
    }
   ],
   "source": [
    "# path = '/Users/amfox/Desktop/ASCAT_EUMETSAT'\n",
    "path = '/discover/nobackup/amfox/ASCAT_EUMETSAT/Metop-A/Y2019/M07'\n",
    "file_name_start = 'M02-ASCA-ASCSMO02-NA-5.0-2019070'\n",
    "printflag = True\n",
    "\n",
    "lat, lon, ssom, tpcx, domo, smpf, smcf, alfr, iwfr, snoc, flsf = read_ascat_bufr(path, file_name_start, printflag)"
   ]
  },
  {
   "cell_type": "code",
   "execution_count": null,
   "metadata": {},
   "outputs": [],
   "source": [
    "numobs = len(ssom)\n",
    "obarray = np.empty([numobs, 3])\n",
    "\n",
    "obarray[:, 0] = ssom\n",
    "obarray[:, 1] = lon\n",
    "obarray[:, 2] = lat\n",
    "\n",
    "obarray[np.isnan(obarray)] = 120\n"
   ]
  },
  {
   "cell_type": "code",
   "execution_count": null,
   "metadata": {},
   "outputs": [],
   "source": [
    "\n",
    "plot_global(obarray)\n",
    "plot_na(obarray)"
   ]
  },
  {
   "cell_type": "code",
   "execution_count": null,
   "metadata": {},
   "outputs": [],
   "source": [
    "# find the unique rows based on values in the second and third columns\n",
    "unique_rows, unique_indices, unique_counts = np.unique(obarray[:, 1:], axis=0, return_index=True, return_counts=True)\n",
    "\n",
    "# count the number of unique rows\n",
    "num_unique_rows = len(unique_rows)\n",
    "\n",
    "# print the number of occurrences of each unique row\n",
    "# for i in range(num_unique_rows):\n",
    "#     print(\"Row\", unique_rows[i], \"occurs\", unique_counts[i], \"times.\")\n",
    "\n",
    "tmp = np.empty([num_unique_rows, 3])\n",
    "tmp[:, 1] = obarray[unique_indices, 1]\n",
    "tmp[:, 2] = obarray[unique_indices, 2]\n",
    "tmp[:, 0] = unique_counts"
   ]
  },
  {
   "cell_type": "code",
   "execution_count": null,
   "metadata": {},
   "outputs": [],
   "source": [
    "num_unique_rows"
   ]
  },
  {
   "cell_type": "code",
   "execution_count": null,
   "metadata": {},
   "outputs": [],
   "source": [
    "# path = '/Users/amfox/Desktop/ASCAT_EUMETSAT'\n",
    "path = '/discover/nobackup/amfox/ASCAT_EUMETSAT/Metop-A/Y2019/M07'\n",
    "file_name_start = 'M02-ASCA-ASCSMO02-NA-5.0-2019071'\n",
    "printflag = True\n",
    "\n",
    "lat1, lon1, ssom1, tpcx1, domo1, smpf1, smcf1, alfr1, iwfr1, snoc1, flsf1 = read_ascat_bufr(path, file_name_start, printflag)"
   ]
  },
  {
   "cell_type": "code",
   "execution_count": null,
   "metadata": {},
   "outputs": [],
   "source": [
    "# path = '/Users/amfox/Desktop/ASCAT_EUMETSAT'\n",
    "path = '/discover/nobackup/amfox/ASCAT_EUMETSAT/Metop-A/Y2019/M07'\n",
    "file_name_start = 'M02-ASCA-ASCSMO02-NA-5.0-2019072'\n",
    "printflag = True\n",
    "\n",
    "lat2, lon2, ssom2, tpcx2, domo2, smpf2, smcf2, alfr2, iwfr2, snoc2, flsf2 = read_ascat_bufr(path, file_name_start, printflag)"
   ]
  },
  {
   "cell_type": "code",
   "execution_count": null,
   "metadata": {},
   "outputs": [],
   "source": [
    "plot_global(tmp)\n",
    "plot_na(tmp)"
   ]
  },
  {
   "cell_type": "code",
   "execution_count": null,
   "metadata": {},
   "outputs": [],
   "source": []
  }
 ],
 "metadata": {
  "kernelspec": {
   "display_name": "Python [conda env:.conda-test]",
   "language": "python",
   "name": "conda-env-.conda-test-py"
  },
  "language_info": {
   "codemirror_mode": {
    "name": "ipython",
    "version": 3
   },
   "file_extension": ".py",
   "mimetype": "text/x-python",
   "name": "python",
   "nbconvert_exporter": "python",
   "pygments_lexer": "ipython3",
   "version": "3.10.9"
  },
  "vscode": {
   "interpreter": {
    "hash": "130bdb5d51c1627e03a8f7a29c982db29c3017f04d5bf7548f0371ec6a75a062"
   }
  }
 },
 "nbformat": 4,
 "nbformat_minor": 4
}
