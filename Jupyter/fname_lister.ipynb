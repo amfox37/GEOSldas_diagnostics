{
 "cells": [
  {
   "cell_type": "code",
   "execution_count": 5,
   "metadata": {},
   "outputs": [],
   "source": [
    "import os\n",
    "# import shutil\n",
    "\n",
    "top_directory = \"../test_data/Metop_B\"  # Specify the top directory\n",
    "out_directory = \"../test_data/fnames\" # Specify the top output directory\n",
    "start_year = 2015  # Specify the start year\n",
    "end_year = 2022  # Specify the end year\n",
    "\n",
    "def parse_timestamp(timestamp):\n",
    "    if len(timestamp) < 14:\n",
    "        return None\n",
    "    try:\n",
    "        year = int(timestamp[:4])\n",
    "        month = int(timestamp[4:6])\n",
    "        day = int(timestamp[6:8])\n",
    "        hour = int(timestamp[8:10])\n",
    "        minute = int(timestamp[10:12])\n",
    "        second = int(timestamp[12:14])\n",
    "        return year, month, day, hour, minute, second\n",
    "    except ValueError:\n",
    "        return None\n",
    "\n",
    "def create_directory(year, month, day):\n",
    "    directory = os.path.join(out_directory, \"Y{:04d}\".format(year), \"M{:02d}\".format(month), \"D{:02d}\".format(day))\n",
    "    os.makedirs(directory, exist_ok=True)\n",
    "    return directory\n",
    "\n",
    "def search_and_copy_files():\n",
    "    for year in range(start_year, end_year + 1):\n",
    "        for month in range(1, 13):\n",
    "            directory = os.path.join(top_directory, \"Y{:04d}\".format(year), \"M{:02d}\".format(month))\n",
    "            if not os.path.isdir(directory):\n",
    "                continue\n",
    "            for filename in os.listdir(directory):\n",
    "                if filename.startswith(\"M01-ASCA-ASCSMO02-NA-\"):\n",
    "                    timestamp = filename.split(\"-\")[6]\n",
    "                    file_year, file_month, file_day, _, _, _ = parse_timestamp(timestamp)\n",
    "                    if file_year != year or file_month != month:\n",
    "                        continue\n",
    "                    destination_directory = create_directory(year, month, file_day)\n",
    "                    destination_file = os.path.join(destination_directory, \"M01-ASCA-ASCSMO02.txt\")\n",
    "                    with open(destination_file, \"a\") as f:\n",
    "                        f.write(os.path.join(filename) + \"\\n\")\n",
    "                    #    f.write(os.path.join(directory, filename) + \"\\n\")\n",
    "                    #shutil.copy2(os.path.join(directory, filename), destination_directory)\n",
    "\n",
    "search_and_copy_files()"
   ]
  }
 ],
 "metadata": {
  "kernelspec": {
   "display_name": "xr",
   "language": "python",
   "name": "python3"
  },
  "language_info": {
   "codemirror_mode": {
    "name": "ipython",
    "version": 3
   },
   "file_extension": ".py",
   "mimetype": "text/x-python",
   "name": "python",
   "nbconvert_exporter": "python",
   "pygments_lexer": "ipython3",
   "version": "3.11.3"
  },
  "orig_nbformat": 4
 },
 "nbformat": 4,
 "nbformat_minor": 2
}
